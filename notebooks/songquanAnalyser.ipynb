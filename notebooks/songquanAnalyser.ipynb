{
 "cells": [
  {
   "cell_type": "code",
   "execution_count": 1,
   "id": "00755c3f",
   "metadata": {},
   "outputs": [],
   "source": [
    "import os\n",
    "import numpy as np\n",
    "import math\n",
    "from PIL import Image, ImageDraw\n",
    "from IPython.display import display"
   ]
  },
  {
   "cell_type": "code",
   "execution_count": null,
   "id": "e4721fc1",
   "metadata": {},
   "outputs": [],
   "source": []
  },
  {
   "cell_type": "code",
   "execution_count": 2,
   "id": "e1b71fdf",
   "metadata": {
    "scrolled": true
   },
   "outputs": [],
   "source": [
    "with open(\"outputSongquan25.txt\", \"r\") as f:\n",
    "    s = f.read()\n",
    "lines = s.split('\\n')\n",
    "lines.append(\"0 0 0 0 0\")\n",
    "\n",
    "group = []\n",
    "alldata = []\n",
    "\n",
    "nowTime = 0\n",
    "\n",
    "for line in lines:\n",
    "    if line == \"\":\n",
    "        continue\n",
    "    content = line.split(' ')\n",
    "    time = int(content[0])\n",
    "    x = int(content[1])\n",
    "    y = int(content[2])\n",
    "    z = int(content[3])\n",
    "    d = int(content[4])\n",
    "    \n",
    "    if time < nowTime or time - nowTime > 5000:\n",
    "        if len(group) == 9:\n",
    "            alldata.append(group)\n",
    "        group = []\n",
    "    group.append([time, x, y, z, d])\n",
    "    nowTime = time\n",
    "    \n",
    "    "
   ]
  },
  {
   "cell_type": "code",
   "execution_count": 3,
   "id": "768d9a0a",
   "metadata": {
    "scrolled": true
   },
   "outputs": [
    {
     "name": "stdout",
     "output_type": "stream",
     "text": [
      "========\n",
      "[18667, 49637, 7647, 1041380, 180]\n",
      "[19204, 48157, 6396, 1041380, 5]\n",
      "[19703, 50404, 6230, 1041280, 117]\n",
      "[22730, 48858, 7613, 1041380, 208]\n",
      "[22900, 50368, 6979, 1041380, 144]\n",
      "[23001, 49466, 5406, 1041280, 70]\n",
      "[24890, 48776, 5526, 1041380, 44]\n",
      "[25912, 50342, 6055, 1041280, 110]\n",
      "[26497, 48499, 7370, 1041380, 223]\n",
      "========\n",
      "[128995, 49637, 7647, 1041380, 180]\n",
      "[130170, 50404, 6230, 1041280, 117]\n",
      "[130665, 48157, 6396, 1041280, 5]\n",
      "[132442, 48858, 7613, 1041280, 208]\n",
      "[132953, 49466, 5406, 1041280, 70]\n",
      "[133127, 50368, 6979, 1041280, 144]\n",
      "[135456, 48776, 5526, 1041380, 44]\n",
      "[136484, 50342, 6055, 1041280, 110]\n",
      "[136634, 48499, 7370, 1041380, 223]\n",
      "========\n",
      "[241251, 49637, 7647, 1041380, 180]\n",
      "[241883, 50404, 6230, 1041280, 117]\n",
      "[242183, 48157, 6396, 1041380, 5]\n",
      "[243951, 48858, 7613, 1041380, 208]\n",
      "[244632, 50368, 6979, 1041280, 144]\n",
      "[244956, 49466, 5406, 1041280, 70]\n",
      "[246502, 48776, 5526, 1041380, 44]\n",
      "[248392, 48499, 7370, 1041380, 223]\n",
      "[248496, 50342, 6055, 1041280, 110]\n",
      "========\n",
      "[18435, 48157, 6396, 1041572, 5]\n",
      "[18436, 50404, 6230, 1041472, 117]\n",
      "[18485, 49637, 7647, 1041572, 180]\n",
      "[21493, 50368, 6979, 1041472, 144]\n",
      "[21915, 48858, 7613, 1041572, 208]\n",
      "[22726, 49466, 5406, 1041472, 70]\n",
      "[24452, 48499, 7370, 1041572, 223]\n",
      "[25176, 50342, 6055, 1041472, 110]\n",
      "[25419, 48776, 5526, 1041572, 44]\n",
      "========\n",
      "[123235, 48157, 6396, 1041572, 5]\n",
      "[123235, 50404, 6230, 1041472, 117]\n",
      "[123286, 49637, 7647, 1041572, 180]\n",
      "[126675, 48858, 7613, 1041572, 208]\n",
      "[126961, 50368, 6979, 1041472, 144]\n",
      "[127666, 49466, 5406, 1041472, 70]\n",
      "[129639, 50342, 6055, 1041472, 110]\n",
      "[129908, 48776, 5526, 1041472, 44]\n",
      "[131285, 48499, 7370, 1041472, 223]\n"
     ]
    }
   ],
   "source": [
    "for data in alldata:\n",
    "    print(\"========\")\n",
    "    for line in data:\n",
    "        print(line)"
   ]
  },
  {
   "cell_type": "code",
   "execution_count": 4,
   "id": "52cdf16f",
   "metadata": {},
   "outputs": [
    {
     "name": "stdout",
     "output_type": "stream",
     "text": [
      "========\n",
      "========\n",
      "========\n",
      "========\n",
      "========\n"
     ]
    }
   ],
   "source": [
    "for data in alldata:\n",
    "    print(\"========\")\n",
    "    for line in data:\n",
    "        if line[4] == 35:\n",
    "            print(line)"
   ]
  },
  {
   "cell_type": "code",
   "execution_count": 13,
   "id": "77ccda5d",
   "metadata": {},
   "outputs": [],
   "source": [
    "center = [49295, 6548]\n",
    "p1 = [48335, 6473]\n",
    "p2 = [49856, 5762]\n",
    "p3 = [49733, 7418]\n",
    "\n",
    "p4 = [50230,6311]\n",
    "p5 = [49071,5613]\n",
    "p6 = [48564,7178]\n",
    "\n",
    "\n",
    "plotCenter = [400, 400]\n",
    "\n",
    "def getPos(x, y):\n",
    "    X = -(x - center[0]) / 64 * 10 + plotCenter[0]\n",
    "    Y = -(y - center[1]) / 64 * 10 + plotCenter[1]\n",
    "    return Y, X\n",
    "\n",
    "def getVarPos(x, y, theta, r):\n",
    "    Theta = theta / 256 * 2 * math.pi\n",
    "    X = x - r * math.sin(Theta)\n",
    "    Y = y - r * math.cos(Theta)\n",
    "    return X, Y\n",
    "\n",
    "def drawCircle(x, y, r, draw, outline, fill):\n",
    "    X, Y = getPos(x, y)\n",
    "    draw.ellipse([X - r, Y - r, X + r, Y + r], outline=outline, fill=fill)\n",
    "    \n",
    "def drawCirclePos(x, y, r, draw, outline, fill):\n",
    "    draw.ellipse([x - r, y - r, x + r, y + r], outline=outline, fill=fill)"
   ]
  },
  {
   "cell_type": "code",
   "execution_count": null,
   "id": "ef4f916b",
   "metadata": {},
   "outputs": [],
   "source": []
  },
  {
   "cell_type": "code",
   "execution_count": 14,
   "id": "ba8732c2",
   "metadata": {
    "scrolled": false
   },
   "outputs": [
    {
     "name": "stdout",
     "output_type": "stream",
     "text": [
      "[128995, 49637, 7647, 1041380, 180]\n",
      "0\n",
      "[130170, 50404, 6230, 1041280, 117]\n",
      "1175\n",
      "[130665, 48157, 6396, 1041280, 5]\n",
      "1670\n",
      "[132442, 48858, 7613, 1041280, 208]\n",
      "3447\n",
      "[132953, 49466, 5406, 1041280, 70]\n",
      "3958\n",
      "[133127, 50368, 6979, 1041280, 144]\n",
      "4132\n",
      "[135456, 48776, 5526, 1041380, 44]\n",
      "6461\n",
      "[136484, 50342, 6055, 1041280, 110]\n",
      "7489\n",
      "[136634, 48499, 7370, 1041380, 223]\n",
      "7639\n"
     ]
    },
    {
     "data": {
      "image/png": "[encoded data removed]",
      "text/plain": [
       "<PIL.Image.Image image mode=RGB size=800x800 at 0x23C0105EC70>"
      ]
     },
     "metadata": {},
     "output_type": "display_data"
    }
   ],
   "source": [
    "\n",
    "\n",
    "\n",
    "# battle = alldata[7]\n",
    "# for line in battle:\n",
    "#     drawCircle(line[1], line[2], 20, draw, 'black', 'red')\n",
    "\n",
    "baseTime = [70000, 180000, 266000, 395000, 506000, 1000000000]\n",
    "\n",
    "\n",
    "def sim(start, final):\n",
    "    im = Image.new('RGB', (800, 800), 'white')\n",
    "    draw = ImageDraw.Draw(im)\n",
    "\n",
    "    drawCircle(center[0], center[1], 200, draw, 'black', 'white')\n",
    "    \n",
    "    n = 0\n",
    "    for battle in alldata:\n",
    "        n += 1\n",
    "        if n != 2:\n",
    "            continue\n",
    "        start = 0\n",
    "        for line in battle:\n",
    "            if line[4] < 10000:\n",
    "                # drawCircle(line[1], line[2], 20, draw, 'black', 'red')\n",
    "                if start <= 10:\n",
    "                    start = line[0]\n",
    "                X, Y = getPos(line[1], line[2])\n",
    "\n",
    "#                 nowBaseTime = 0\n",
    "#                 for i in range(5):\n",
    "#                     if line[0] > baseTime[i] and line[0] < baseTime[i+1]:\n",
    "#                         nowBaseTime = baseTime[i] - 10000\n",
    "#                         break\n",
    "                print(line)\n",
    "                print(line[0] - start)\n",
    "                alpha = int(min((line[0] - start) / 9000 * 255, 255))\n",
    "                        \n",
    "                drawCirclePos(X, Y, 20, draw, 'black', (alpha, alpha, 255))\n",
    "\n",
    "\n",
    "#                 for time in range(nowBaseTime + start, nowBaseTime + final, 100):\n",
    "#                     r = (time - line[0]) / 1000 * 75\n",
    "#                     # print(r)\n",
    "#                     x, y = getVarPos(X, Y, line[4], r)\n",
    "#                     alpha = int((time - nowBaseTime) / 35000 * 255)\n",
    "#                     drawCirclePos(x, y, 20, draw, 'black', (alpha, alpha, 255))\n",
    "\n",
    "    drawCircle(center[0], center[1], 20, draw, 'black', 'gray')\n",
    "    drawCircle(p1[0], p1[1], 10, draw, 'black', 'blue')\n",
    "    drawCircle(p2[0], p2[1], 10, draw, 'black', 'white')\n",
    "    drawCircle(p3[0], p3[1], 10, draw, 'black', 'orange')\n",
    "    \n",
    "    drawCircle(p4[0], p4[1], 10, draw, 'black', 'cyan')\n",
    "    drawCircle(p5[0], p5[1], 10, draw, 'black', 'cyan')\n",
    "    drawCircle(p6[0], p6[1], 10, draw, 'black', 'cyan')\n",
    "\n",
    "    display(im)\n",
    "    \n",
    "sim(0, 0)\n",
    "\n",
    "\n",
    "\n"
   ]
  },
  {
   "cell_type": "code",
   "execution_count": 26,
   "id": "5c317d99",
   "metadata": {},
   "outputs": [
    {
     "name": "stdout",
     "output_type": "stream",
     "text": [
      "-14.223530991384088\n",
      "-103.47255444007111\n",
      "139.24414815898245\n",
      "89.24902344868701\n",
      "-242.71670259905358\n",
      "153.46767915036654\n"
     ]
    }
   ],
   "source": [
    "def getAngle(C, X):\n",
    "    return math.atan2(X[1]-C[1], X[0]-C[0]) / math.pi* 180\n",
    "    \n",
    "a1 = getAngle(center, p4)\n",
    "a2 = getAngle(center, p5)\n",
    "a3 = getAngle(center, p6)\n",
    "\n",
    "print(a1)\n",
    "print(a2)\n",
    "print(a3)\n",
    "print(a1-a2)\n",
    "print(a2-a3)\n",
    "print(a3-a1)\n"
   ]
  }
 ],
 "metadata": {
  "kernelspec": {
   "display_name": "Python 3 (ipykernel)",
   "language": "python",
   "name": "python3"
  },
  "language_info": {
   "codemirror_mode": {
    "name": "ipython",
    "version": 3
   },
   "file_extension": ".py",
   "mimetype": "text/x-python",
   "name": "python",
   "nbconvert_exporter": "python",
   "pygments_lexer": "ipython3",
   "version": "3.9.7"
  }
 },
 "nbformat": 4,
 "nbformat_minor": 5
}
