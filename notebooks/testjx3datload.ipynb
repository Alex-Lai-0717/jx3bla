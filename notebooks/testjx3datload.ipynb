{
 "cells": [
  {
   "cell_type": "code",
   "execution_count": 1,
   "metadata": {},
   "outputs": [],
   "source": [
    "import numpy as np\n"
   ]
  },
  {
   "cell_type": "code",
   "execution_count": 5,
   "metadata": {},
   "outputs": [],
   "source": [
    "def parseLuatable(s, n, maxn):\n",
    "    numLeft = 0\n",
    "    nowi = n\n",
    "    nowobj = {}\n",
    "    nowkey = \"\"\n",
    "    keystart = 0\n",
    "    nowitem = \"\"\n",
    "    nowitems = []\n",
    "    nowquote = 0\n",
    "    while True:\n",
    "        # print(nowobj)\n",
    "        c = s[nowi]\n",
    "        if c == \"[\":\n",
    "            if nowitems != []:\n",
    "                nowobj[nowkey] = nowitems\n",
    "                nowkey = \"\"\n",
    "                nowitem = \"\"\n",
    "                nowitems = []\n",
    "            keystart = 1\n",
    "        elif c == \"{\":\n",
    "            # print(nowi)\n",
    "            jdata, pn = parseLuatable(s, nowi + 1, maxn)\n",
    "            nowitems.append(jdata)\n",
    "            nowi = pn\n",
    "        elif keystart == 1:\n",
    "            if c == \"]\":\n",
    "                keystart = 0\n",
    "            else:\n",
    "                nowkey += c\n",
    "        elif keystart == 0:\n",
    "            if c == '\"':\n",
    "                nowquote = (nowquote + 1) % 2\n",
    "            if c == \",\" and nowquote != 1:\n",
    "                if nowitem != \"\":\n",
    "                    nowitems.append(nowitem)\n",
    "                nowitem = \"\"\n",
    "            elif c == \"}\":\n",
    "                if nowitem != \"\":\n",
    "                    nowitems.append(nowitem)\n",
    "                nowobj[nowkey] = nowitems\n",
    "                return nowobj, nowi\n",
    "            elif c != '=':\n",
    "                nowitem += c\n",
    "        if c == \"}\":\n",
    "            if nowitem != \"\":\n",
    "                nowitems.append(nowitem)\n",
    "            nowobj[nowkey] = nowitems\n",
    "            return nowobj, nowi\n",
    "        nowi += 1\n",
    "        if nowi >= maxn:\n",
    "            break\n",
    "    nowobj[nowkey] = nowitems\n",
    "    return nowobj, nowi\n",
    "\n"
   ]
  },
  {
   "cell_type": "code",
   "execution_count": 6,
   "metadata": {},
   "outputs": [],
   "source": [
    "f = open(\"2020-12-06-21-36-45_宓桃_368.fstt.jx3dat\", \"r\")\n",
    "s = f.read()\n",
    "res, _ = parseLuatable(s, 8, len(s))"
   ]
  },
  {
   "cell_type": "code",
   "execution_count": 4,
   "metadata": {},
   "outputs": [
    {
     "name": "stdout",
     "output_type": "stream",
     "text": [
      "dict_keys(['', '4', '8', '16', '17', '9', '18', '19', '10', '20', '11', '3', '6', '12', '13', '7', '14', '15', '5'])\n"
     ]
    }
   ],
   "source": [
    "print(res.keys())"
   ]
  },
  {
   "cell_type": "code",
   "execution_count": 7,
   "metadata": {},
   "outputs": [],
   "source": [
    "def parseLuatable2(s):\n",
    "    \n",
    "    def recursive(n, maxn):\n",
    "        numLeft = 0\n",
    "        nowi = n\n",
    "        nowobj = {}\n",
    "        nowkey = \"\"\n",
    "        keystart = 0\n",
    "        nowitem = \"\"\n",
    "        nowitems = []\n",
    "        nowquote = 0\n",
    "        while True:\n",
    "            # print(nowobj)\n",
    "            c = s[nowi]\n",
    "            if c == \"[\":\n",
    "                if nowitems != []:\n",
    "                    nowobj[nowkey] = nowitems\n",
    "                    nowkey = \"\"\n",
    "                    nowitem = \"\"\n",
    "                    nowitems = []\n",
    "                keystart = 1\n",
    "            elif c == \"{\":\n",
    "                # print(nowi)\n",
    "                jdata, pn = recursive(nowi + 1, maxn)\n",
    "                nowitems.append(jdata)\n",
    "                nowi = pn\n",
    "            elif keystart == 1:\n",
    "                if c == \"]\":\n",
    "                    keystart = 0\n",
    "                else:\n",
    "                    nowkey += c\n",
    "            elif keystart == 0:\n",
    "                if c == '\"':\n",
    "                    nowquote = (nowquote + 1) % 2\n",
    "                if c == \",\" and nowquote != 1:\n",
    "                    if nowitem != \"\":\n",
    "                        nowitems.append(nowitem)\n",
    "                    nowitem = \"\"\n",
    "                elif c == \"}\":\n",
    "                    if nowitem != \"\":\n",
    "                        nowitems.append(nowitem)\n",
    "                    nowobj[nowkey] = nowitems\n",
    "                    return nowobj, nowi\n",
    "                elif c != '=':\n",
    "                    nowitem += c\n",
    "            if c == \"}\":\n",
    "                if nowitem != \"\":\n",
    "                    nowitems.append(nowitem)\n",
    "                nowobj[nowkey] = nowitems\n",
    "                return nowobj, nowi\n",
    "            nowi += 1\n",
    "            if nowi >= maxn:\n",
    "                break\n",
    "        nowobj[nowkey] = nowitems\n",
    "        return nowobj, nowi\n",
    "    \n",
    "    return recursive(8, len(s))"
   ]
  },
  {
   "cell_type": "code",
   "execution_count": 8,
   "metadata": {},
   "outputs": [],
   "source": [
    "f = open(\"2020-12-06-21-36-45_宓桃_368.fstt.jx3dat\", \"r\")\n",
    "s = f.read()\n",
    "res = parseLuatable2(s)"
   ]
  },
  {
   "cell_type": "code",
   "execution_count": 9,
   "metadata": {},
   "outputs": [
    {
     "name": "stdout",
     "output_type": "stream",
     "text": [
      "19229428\n"
     ]
    }
   ],
   "source": [
    "print(len(s))"
   ]
  },
  {
   "cell_type": "code",
   "execution_count": 35,
   "metadata": {},
   "outputs": [
    {
     "name": "stdout",
     "output_type": "stream",
     "text": [
      "356083\n"
     ]
    }
   ],
   "source": [
    "s2 = \"\"\n",
    "n = 1\n",
    "l = len(s)\n",
    "# for i in range(l):\n",
    "#     n += ord(s[i])\n",
    "for ch in s:\n",
    "    if ch == '{':\n",
    "        n += 1\n",
    "\n",
    "print(n)"
   ]
  },
  {
   "cell_type": "code",
   "execution_count": 32,
   "metadata": {},
   "outputs": [
    {
     "name": "stdout",
     "output_type": "stream",
     "text": [
      ",\n"
     ]
    }
   ],
   "source": [
    "f = open(\"2020-12-06-21-36-45_宓桃_368.fstt.jx3dat\", \"r\")\n",
    "s = f.read()\n",
    "print(s[100000])\n",
    "g = open(\"test.txt\", \"w\")\n",
    "g.write(s)\n",
    "g.close()"
   ]
  }
 ],
 "metadata": {
  "kernelspec": {
   "display_name": "Python 3",
   "language": "python",
   "name": "python3"
  },
  "language_info": {
   "codemirror_mode": {
    "name": "ipython",
    "version": 3
   },
   "file_extension": ".py",
   "mimetype": "text/x-python",
   "name": "python",
   "nbconvert_exporter": "python",
   "pygments_lexer": "ipython3",
   "version": "3.7.1"
  }
 },
 "nbformat": 4,
 "nbformat_minor": 4
}
