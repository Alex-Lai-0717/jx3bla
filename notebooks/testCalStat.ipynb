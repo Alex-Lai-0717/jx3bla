{
 "cells": [
  {
   "cell_type": "code",
   "execution_count": 1,
   "metadata": {},
   "outputs": [],
   "source": [
    "import numpy as np\n",
    "import pymysql\n",
    "import configparser\n",
    "import json\n",
    "import time"
   ]
  },
  {
   "cell_type": "code",
   "execution_count": 3,
   "metadata": {},
   "outputs": [
    {
     "name": "stderr",
     "output_type": "stream",
     "text": [
      "C:\\ProgramData\\Anaconda3\\lib\\site-packages\\ipykernel_launcher.py:3: DeprecationWarning: This method will be removed in future versions.  Use 'parser.read_file()' instead.\n",
      "  This is separate from the ipykernel package so we can avoid doing imports until\n"
     ]
    }
   ],
   "source": [
    "ip = \"139.199.102.41\"\n",
    "config = configparser.RawConfigParser()\n",
    "config.readfp(open('../settings.cfg'))\n",
    "\n",
    "dbname = config.get('jx3bla', 'username')\n",
    "dbpwd = config.get('jx3bla', 'password')\n",
    "db = pymysql.connect(ip,dbname,dbpwd,\"jx3bla\",port=3306,charset='utf8')\n",
    "cursor = db.cursor()"
   ]
  },
  {
   "cell_type": "code",
   "execution_count": 3,
   "metadata": {},
   "outputs": [],
   "source": [
    "edition = \"3.5.0\"\n",
    "mapdetail = \"25人英雄范阳夜变\"\n",
    "\n",
    "sql = \"\"\"SELECT * FROM XiangZhiStat WHERE edition='3.5.0' AND mapdetail='25人英雄范阳夜变'\"\"\"\n",
    "cursor.execute(sql)\n",
    "result = cursor.fetchall()"
   ]
  },
  {
   "cell_type": "code",
   "execution_count": 9,
   "metadata": {},
   "outputs": [],
   "source": [
    "edition = \"5.1.0\"\n",
    "mapdetail = \"25人普通达摩洞\"\n",
    "\n",
    "sql = \"\"\"SELECT * FROM XiangZhiStat WHERE edition>='%s' AND mapdetail='%s'\"\"\"%(edition, mapdetail)\n",
    "cursor.execute(sql)\n",
    "result = cursor.fetchall()"
   ]
  },
  {
   "cell_type": "code",
   "execution_count": 8,
   "metadata": {},
   "outputs": [
    {
     "name": "stdout",
     "output_type": "stream",
     "text": [
      "()\n"
     ]
    }
   ],
   "source": [
    "print(result)"
   ]
  },
  {
   "cell_type": "code",
   "execution_count": 10,
   "metadata": {},
   "outputs": [],
   "source": [
    "allstat = {}\n",
    "allstat[\"score\"] = []\n",
    "for line in result:\n",
    "    stat = json.loads(line[7].replace(\"'\", '\"'))\n",
    "    for key in stat:\n",
    "        if key not in allstat:\n",
    "            allstat[key] = [stat[key]]\n",
    "        else:\n",
    "            allstat[key].append(stat[key])\n",
    "    allstat[\"score\"].append(line[2])"
   ]
  },
  {
   "cell_type": "code",
   "execution_count": 7,
   "metadata": {},
   "outputs": [
    {
     "name": "stdout",
     "output_type": "stream",
     "text": [
      "{'score': []}\n"
     ]
    }
   ],
   "source": [
    "print(allstat)"
   ]
  },
  {
   "cell_type": "code",
   "execution_count": null,
   "metadata": {},
   "outputs": [],
   "source": []
  },
  {
   "cell_type": "code",
   "execution_count": 19,
   "metadata": {},
   "outputs": [
    {
     "name": "stdout",
     "output_type": "stream",
     "text": [
      "{'score': 0.0, 'numeffheal': 4946687.392156863, 'hardNPC': '未知', 'npcRank': 0.0, 'maxDpsRank': 1.9019607843137254, 'sumDeath': 0.47058823529411764, 'healTable': [['余晖', 1314.037037037037, 0.07423826344847315, 3.740740740740741, 3.888888888888889, 4370.333333333333, 54.592592592592595, 362.81481481481484, 9.633833222771594], ['宓桃', 9063.583333333334, 0.1324992502704027, 3.875, 4.0, 11031.0, 134.66666666666666, 429.4583333333333, 18.821258419867522], ['武雪散', 2219.6666666666665, 0.08404089008025542, 3.9523809523809526, 3.9523809523809526, 5521.428571428572, 108.14285714285714, 427.23809523809524, 15.148682556774688], ['猿飞', 2884.6071428571427, 0.08916513629729782, 3.9642857142857144, 4.0, 5940.142857142857, 102.42857142857143, 432.14285714285717, 14.294629515521171], ['哑头陀', 3018.6363636363635, 0.08414140650695133, 3.909090909090909, 3.909090909090909, 6614.909090909091, 111.63636363636364, 464.3636363636364, 14.535228300080085], ['岳琳&岳琅', 5344.476190476191, 0.09558254498204595, 3.9047619047619047, 3.9523809523809526, 7672.523809523809, 166.1904761904762, 556.5714285714286, 17.936700236257515]], 'rateTable': [['余晖', 0.9168524211818734], ['宓桃', 0.49681799916983876], ['武雪散', 0.7125997936072077], ['猿飞', 0.7265824179703654], ['哑头陀', 0.712395700588165], ['岳琳&岳琅', 0.6562727662466378]], 'npcNum': 0.0, 'sumHit': 0.0, 'maxDpsName': '余晖', 'maxDpsTable': [['22h', 148114.9597777305, '平均数', '22h'], ['24', 92588.27657516355, '平均数', '24'], ['21d', 84513.10725317207, '平均数', '21d'], ['6d', 89543.53875487858, '平均数', '6d'], ['8', 83555.59749578006, '平均数', '8'], ['10d', 90413.04614469197, '平均数', '10d'], ['9', 82225.61355750565, '平均数', '9'], ['2d', 85794.06745123384, '平均数', '2d'], ['1d', 82034.89879122232, '平均数', '1d'], ['4m', 80314.03559600288, '平均数', '4m'], ['5d', 79027.7917253455, '平均数', '5d'], ['23', 76503.85888446294, '平均数', '23'], ['10t', 30170.850237827257, '平均数', '10t'], ['3', 51218.66120574837, '平均数', '3'], ['7p', 82379.43571382307, '平均数', '7p'], ['25', 86885.38364498437, '平均数', '25'], ['22d', 86100.75914042974, '平均数', '22d'], ['4p', 81435.73409938799, '平均数', '4p'], ['211', 104323.15661019931, '平均数', '211'], ['3t', 14750.212392710338, '平均数', '3t'], ['21t', 34462.873816589454, '平均数', '21t'], ['3d', 58574.272139322995, '平均数', '3d'], ['7m', 81405.2615840806, '平均数', '7m'], ['1t', 5680.886675883845, '平均数', '1t'], ['6h', 20.127568631783905, '平均数', '6h'], ['7', 86221.7403394196, '平均数', '7']], 'overallrate': 0.7139873676513007, 'npcHealList': [], 'maxEqualDPS': 1.556848479511707, 'maxDps': 118350.06530996732, 'maxSingleBreakName': '媚骨骨的跟宠', 'numpurge': 0.0, 'maxSingleRate': 0.8446026546504463, 'maxSingleRateName': '亮亮也是酿酿', 'hardBOSS': '未知', 'rateList': [['23', 0.7330285746355767, '平均数', '23'], ['5', 0.6932831222855642, '平均数', '5'], ['10', 0.6847109670867564, '平均数', '10'], ['6', 0.71474300929574, '平均数', '6'], ['8', 0.7074051366044748, '平均数', '8'], ['2', 0.7172889876861789, '平均数', '2'], ['4', 0.7160219989326991, '平均数', '4'], ['3', 0.5687690824911564, '平均数', '3'], ['24', 0.7611415877214733, '平均数', '24'], ['21', 0.743415734369381, '平均数', '21'], ['1', 0.6456931972470572, '平均数', '1'], ['7', 0.702143180348256, '平均数', '7'], ['211', 0.6979459033724545, '平均数', '211'], ['9', 0.7319207930524174, '平均数', '9'], ['25', 0.729413332594818, '平均数', '25'], ['22', 0.7333002360641875, '平均数', '22']], 'bossRateDict': {'23': [0.1387180754390901, 0.22220667018915155, 0.2471232927527565], '5': [0.11010972678502796, 0.1804772845304423, 0.19795593444631396], '10': [0.10330234142966978, 0.18600950960755372, 0.2050747070843845], '6': [0.13921905233859977, 0.18993308071138512, 0.1913492568975938], '8': [0.1508221412264527, 0.18948690775890234, 0.24061479009618456], '2': [0.14706721975950318, 0.18577483439737447, 0.20067558095285137], '4': [0.18883143497408844, 0.24490127892379335, 0.1863925675607916], '3': [0.10292202170047725, 0.15613830348074673, 0.15468280129422024], '24': [0.16367872170202385, 0.19434216219212733, 0.2660247145322106], '21': [0.13085649207356553, 0.16339299429620358, 0.24398338601968833], '1': [0.11917349255415435, 0.2069188173589417, 0.17258467317561366], '7': [0.17726010047978413, 0.18704275519035793, 0.21313622756190506], '211': [0.13685428826926016, 0.2139308439382359, 0.2218863687279001], '9': [0.11998914618294695, 0.16769484588185368, 0.14695586817692535], '25': [0.23356973679770052, 0.27280302889589264, 0.28015873127214225], '22': [0.2379961519012899, 0.29683123412674484, 0.35410797152992673]}, 'npcHealRate': 0.0, 'healList': [['平均数', '6', 3976.5833333333335, 20194.75, 6702.25, 8267.5, 9595.0, 14016.583333333334], ['平均数', '2', 6546.5, 18228.6, 7893.9, 6616.3, 11179.1, 14965.1], ['平均数', '5', 7330.923076923077, 23129.53846153846, 9325.461538461539, 10070.384615384615, 13764.153846153846, 21202.76923076923], ['平均数', '22', 1752.0833333333333, 9582.833333333334, 2113.4166666666665, 2237.0, 2574.75, 4750.833333333333]], 'numheal': 20868072.784313727, 'npcHeal': 0.0, 'spareRateList': [['余晖', 0.18238281309141754], ['宓桃', 0.16947656583527992], ['武雪散', 0.2058481146623342], ['猿飞', 0.2715442307907482], ['哑头陀', 0.21504392053457747], ['岳琳&岳琅', 0.2082224125286207]], 'hitCount': {'s22520': 0.0, 'b16316': 0.0, 'b16842': 0.0, 's22272': 0.0, 's22246': 0.0, 's22367': 0.0, 's22111': 0.0, 's24031': 0.0, 's24029': 0.0, 'b17301': 0.0, 's22776': 0.0, 's22203': 0.0, 's22374': 0.0, 'b17110': 0.0, 's24030': 0.0, 's22388': 0.0, 's22521': 0.0, 's23700': 0.0, 's23621': 0.0, 's22356': 0.0}, 'dpsTable': [['余晖', 145558.2936972256, 1.4814814814814814, 1.6542583453247959, 19.555555555555557], ['宓桃', 67156.09151265617, 10.666666666666666, 0.9305639682797512, 18.75], ['武雪散', 117352.58105107326, 1.0, 1.6148558101287753, 19.476190476190474], ['猿飞', 75616.99427065322, 1.0714285714285714, 1.6112251143239045, 19.035714285714285], ['哑头陀', 112934.37361603066, 1.0, 1.551513781967853, 19.772727272727273], ['岳琳&岳琅', 77098.60070291082, 5.0476190476190474, 1.2064228371569756, 19.666666666666668]], 'breakList': [['4', 12.714285714285714, '平均数', '4'], ['7', 10.876190476190477, '平均数', '7'], ['3', 13.103092783505154, '平均数', '3'], ['8', 8.954545454545455, '平均数', '8'], ['24', 12.023255813953488, '平均数', '24'], ['9', 10.724137931034482, '平均数', '9'], ['10', 8.711864406779661, '平均数', '10'], ['2', 8.568627450980392, '平均数', '2'], ['23', 11.72, '平均数', '23'], ['6', 10.58252427184466, '平均数', '6'], ['211', 14.462962962962964, '平均数', '211'], ['21', 11.061538461538461, '平均数', '21'], ['1', 8.428571428571429, '平均数', '1'], ['5', 10.213333333333333, '平均数', '5'], ['25', 13.306122448979592, '平均数', '25'], ['22', 17.2, '平均数', '22']], 'bossBreakDict': {'4': [1.835164835164835, 1.0879120879120878, 2.318681318681319], '7': [1.8571428571428572, 1.1714285714285715, 2.1333333333333333], '3': [1.1958762886597938, 1.711340206185567, 2.2989690721649483], '8': [1.6022727272727273, 1.0340909090909092, 1.9431818181818181], '24': [1.744186046511628, 0.8372093023255814, 1.5348837209302326], '9': [1.5517241379310345, 1.103448275862069, 1.1379310344827587], '10': [1.2542372881355932, 1.1864406779661016, 1.4067796610169492], '2': [1.4313725490196079, 0.6470588235294118, 2.3529411764705883], '23': [2.2, 1.56, 1.72], '6': [1.4854368932038835, 0.8446601941747572, 2.2524271844660193], '211': [1.4444444444444444, 1.5740740740740742, 2.2962962962962963], '21': [1.9230769230769231, 1.3076923076923077, 1.4], '1': [1.4523809523809523, 0.8095238095238095, 1.0714285714285714], '5': [1.2933333333333332, 1.1733333333333333, 2.5866666666666664], '25': [2.3877551020408165, 1.3877551020408163, 1.9183673469387754], '22': [2.1333333333333333, 2.3333333333333335, 4.666666666666667]}, 'numshield': 309.62745098039215, 'maxSingleBreak': 20.15686274509804, 'spareRate': 0.24148052221192368, 'speed': 7907.285714285715, 'printTable': []}\n"
     ]
    }
   ],
   "source": [
    "avgstat = {}\n",
    "medstat = {}\n",
    "maxstat = {}\n",
    "minstat = {}\n",
    "numstat = {}\n",
    "\n",
    "for key in allstat:\n",
    "    data = allstat[key]\n",
    "    if type(data[0]) == type(0) or type(data[0]) == type(0.0):\n",
    "        nData = np.array(data)\n",
    "        avgstat[key] = np.mean(nData)\n",
    "        medstat[key] = np.median(nData)\n",
    "        maxstat[key] = np.max(nData)\n",
    "        minstat[key] = np.min(nData)\n",
    "        numstat[key] = nData.shape[0]\n",
    "    elif key in [\"healTable\", \"dpsTable\", \"spareRateList\", \"rateTable\"]:\n",
    "        bossData = {}\n",
    "        for record in data:\n",
    "            for line in record:\n",
    "                if line[0] not in bossData:\n",
    "                    bossData[line[0]] = [line[1:]]\n",
    "                else:\n",
    "                    bossData[line[0]].append(line[1:])\n",
    "        avgstat[key] = []\n",
    "        medstat[key] = []\n",
    "        maxstat[key] = []\n",
    "        minstat[key] = []\n",
    "        numstat[key] = []\n",
    "        for line in bossData:\n",
    "            nData = np.array(bossData[line])\n",
    "            avgstat[key].append([line] + list(np.mean(nData, axis=0)))\n",
    "            medstat[key].append([line] + list(np.median(nData, axis=0)))\n",
    "            maxstat[key].append([line] + list(np.max(nData, axis=0)))\n",
    "            minstat[key].append([line] + list(np.min(nData, axis=0)))\n",
    "            numstat[key].append(nData.shape[0])\n",
    "    elif key in [\"breakList\", \"rateList\"]:\n",
    "        if key == \"breakList\":\n",
    "            subkey = \"bossBreakDict\"\n",
    "        elif key == \"rateList\":\n",
    "            subkey = \"bossRateDict\"\n",
    "        occData = {}\n",
    "        for i in range(len(data)):\n",
    "            for line in data[i]:\n",
    "                if line[3] not in occData:\n",
    "                    occData[line[3]] = [[line[1]] + allstat[subkey][i][line[0]]]\n",
    "                else:\n",
    "                    occData[line[3]].append([line[1]] + allstat[subkey][i][line[0]])\n",
    "        avgstat[key] = []\n",
    "        medstat[key] = []\n",
    "        maxstat[key] = []\n",
    "        minstat[key] = []\n",
    "        numstat[key] = []\n",
    "        avgstat[subkey] = {}\n",
    "        medstat[subkey] = {}\n",
    "        maxstat[subkey] = {}\n",
    "        minstat[subkey] = {}\n",
    "        numstat[subkey] = {}\n",
    "        for line in occData:\n",
    "            nData = np.array(occData[line])\n",
    "            avgstat[key].append([line, np.mean(nData[:, 0]), \"平均数\", line])\n",
    "            medstat[key].append([line, np.median(nData[:, 0]), \"中位数\", line])\n",
    "            maxstat[key].append([line, np.max(nData[:, 0]), \"最大值\", line])\n",
    "            minstat[key].append([line, np.min(nData[:, 0]), \"最小值\", line])\n",
    "            numstat[key].append(nData.shape[0])\n",
    "            avgstat[subkey][line] = list(np.mean(nData[:, 1:], axis=0))\n",
    "            medstat[subkey][line] = list(np.median(nData[:, 1:], axis=0))\n",
    "            maxstat[subkey][line] = list(np.max(nData[:, 1:], axis=0))\n",
    "            minstat[subkey][line] = list(np.min(nData[:, 1:], axis=0))\n",
    "            numstat[subkey][line] = nData.shape[0]\n",
    "            \n",
    "    elif key in [\"npcHealList\"]:\n",
    "        occData = {}\n",
    "        for i in range(len(data)):\n",
    "            for line in data[i]:\n",
    "                if line[3] not in occData:\n",
    "                    occData[line[3]] = [line[1]]\n",
    "                else:\n",
    "                    occData[line[3]].append(line[1])\n",
    "        avgstat[key] = []\n",
    "        medstat[key] = []\n",
    "        maxstat[key] = []\n",
    "        minstat[key] = []\n",
    "        numstat[key] = []\n",
    "        for line in occData:\n",
    "            nData = np.array(occData[line])\n",
    "            avgstat[key].append([line, np.mean(nData), \"平均数\", line])\n",
    "            medstat[key].append([line, np.median(nData), \"中位数\", line])\n",
    "            maxstat[key].append([line, np.max(nData), \"最大值\", line])\n",
    "            minstat[key].append([line, np.min(nData), \"最小值\", line])\n",
    "            numstat[key].append(nData.shape[0])\n",
    "    elif key in [\"healList\"]:\n",
    "        occData = {}\n",
    "        for i in range(len(data)):\n",
    "            for line in data[i]:\n",
    "                if len(line) <= 7:\n",
    "                    continue\n",
    "                if line[1] not in occData:\n",
    "                    occData[line[1]] = [line[2:]]\n",
    "                else:\n",
    "                    occData[line[1]].append(line[2:])\n",
    "        avgstat[key] = []\n",
    "        medstat[key] = []\n",
    "        maxstat[key] = []\n",
    "        minstat[key] = []\n",
    "        numstat[key] = []\n",
    "        for line in occData:\n",
    "            nData = np.array(occData[line])\n",
    "            avgstat[key].append([\"平均数\", line] + list(np.mean(nData, axis = 0)))\n",
    "            medstat[key].append([\"中位数\", line] + list(np.median(nData, axis = 0)))\n",
    "            maxstat[key].append([\"最大值\", line] + list(np.max(nData, axis = 0)))\n",
    "            minstat[key].append([\"最小值\", line] + list(np.min(nData, axis = 0)))\n",
    "            numstat[key].append(nData.shape[0])\n",
    "    elif key in [\"hitCount\"]:\n",
    "        hitData = {}\n",
    "        for line in data:\n",
    "            for skillkey in line:\n",
    "                if skillkey not in hitData:\n",
    "                    hitData[skillkey] = [line[skillkey]]\n",
    "                else:\n",
    "                    hitData[skillkey].append(line[skillkey])\n",
    "        avgstat[key] = {}\n",
    "        medstat[key] = {}\n",
    "        maxstat[key] = {}\n",
    "        minstat[key] = {}\n",
    "        numstat[key] = {}\n",
    "        for skillkey in hitData:\n",
    "            nData = np.array(hitData[skillkey])\n",
    "            avgstat[key][skillkey] = np.mean(nData)\n",
    "            medstat[key][skillkey] = np.median(nData)\n",
    "            maxstat[key][skillkey] = np.max(nData)\n",
    "            minstat[key][skillkey] = np.min(nData)\n",
    "            numstat[key][skillkey] = nData.shape[0]\n",
    "    elif key in [\"hardBOSS\", \"hardNPC\", \"maxSingleBreakName\", \"maxSingleRateName\"]:\n",
    "        avgstat[key] = data[0]\n",
    "        medstat[key] = data[0]\n",
    "        maxstat[key] = data[0]\n",
    "        minstat[key] = data[0]\n",
    "        numstat[key] = data[0]\n",
    "    elif key in [\"maxDpsTable\"]:\n",
    "        occData = {}\n",
    "        for i in range(len(data)):\n",
    "            if allstat[\"maxDpsName\"][i] not in [\"厌夜\", \"藤原武裔\", \"余晖\"]:\n",
    "                continue\n",
    "            avgstat[\"maxDpsName\"] = allstat[\"maxDpsName\"][i]\n",
    "            medstat[\"maxDpsName\"] = allstat[\"maxDpsName\"][i]\n",
    "            maxstat[\"maxDpsName\"] = allstat[\"maxDpsName\"][i]\n",
    "            minstat[\"maxDpsName\"] = allstat[\"maxDpsName\"][i]\n",
    "            numstat[\"maxDpsName\"] = allstat[\"maxDpsName\"][i]\n",
    "            for line in data[i]:\n",
    "                if line[3] not in occData:\n",
    "                    occData[line[3]] = [line[1]]\n",
    "                else:\n",
    "                    occData[line[3]].append(line[1])\n",
    "        avgstat[key] = []\n",
    "        medstat[key] = []\n",
    "        maxstat[key] = []\n",
    "        minstat[key] = []\n",
    "        numstat[key] = []\n",
    "        for line in occData:\n",
    "            nData = np.array(occData[line])\n",
    "            avgstat[key].append([line, np.mean(nData), \"平均数\", line])\n",
    "            medstat[key].append([line, np.median(nData), \"中位数\", line])\n",
    "            maxstat[key].append([line, np.max(nData), \"最大值\", line])\n",
    "            minstat[key].append([line, np.min(nData), \"最小值\", line])\n",
    "            numstat[key].append(nData.shape[0])\n",
    "    elif key in [\"bossBreakDict\", \"bossRateDict\", \"printTable\", \"maxDpsName\"]:\n",
    "        pass\n",
    "    else:\n",
    "        pass\n",
    "        print(key)\n",
    "        print(data[0])\n",
    "avgstat[\"printTable\"] = []\n",
    "medstat[\"printTable\"] = []\n",
    "maxstat[\"printTable\"] = []\n",
    "minstat[\"printTable\"] = []\n",
    "numstat[\"printTable\"] = []\n",
    "print(avgstat)\n",
    "\n",
    "for key in [\"maxDpsTable\", \"rateList\", \"breakList\"]:\n",
    "    avgstat[key].sort(key=lambda x:-x[1])\n",
    "    medstat[key].sort(key=lambda x:-x[1])\n",
    "    maxstat[key].sort(key=lambda x:-x[1])\n",
    "    minstat[key].sort(key=lambda x:-x[1])\n"
   ]
  },
  {
   "cell_type": "code",
   "execution_count": 22,
   "metadata": {},
   "outputs": [],
   "source": [
    "if mapdetail == \"25人英雄范阳夜变\":\n",
    "    mapabbr = \"yd\"\n",
    "elif mapdetail == \"25人英雄敖龙岛\":\n",
    "    mapabbr = \"ald\"\n",
    "elif mapdetail == \"25人普通达摩洞\":\n",
    "    mapabbr = \"ptdmd\"\n",
    "\n",
    "avgInfo = {\"server\": \"统计数据\", \"id\": \"平均数\", \"score\": avgstat[\"score\"], \"battledate\": time.strftime(\"%Y-%m-%d\", time.localtime()), \n",
    "           \"mapdetail\": mapdetail, \"edition\": edition, \"hash\": \"%saverage\"%mapabbr, \"statistics\": avgstat}\n",
    "medInfo = {\"server\": \"统计数据\", \"id\": \"中位数\", \"score\": medstat[\"score\"], \"battledate\": time.strftime(\"%Y-%m-%d\", time.localtime()), \n",
    "           \"mapdetail\": mapdetail, \"edition\": edition, \"hash\": \"%smedian\"%mapabbr, \"statistics\": medstat}\n",
    "maxInfo = {\"server\": \"统计数据\", \"id\": \"最大值\", \"score\": maxstat[\"score\"], \"battledate\": time.strftime(\"%Y-%m-%d\", time.localtime()), \n",
    "           \"mapdetail\": mapdetail, \"edition\": edition, \"hash\": \"%smaximum\"%mapabbr, \"statistics\": maxstat}\n",
    "minInfo = {\"server\": \"统计数据\", \"id\": \"最小值\", \"score\": minstat[\"score\"], \"battledate\": time.strftime(\"%Y-%m-%d\", time.localtime()), \n",
    "           \"mapdetail\": mapdetail, \"edition\": edition, \"hash\": \"%sminimum\"%mapabbr, \"statistics\": minstat}\n",
    "numInfo = {\"server\": \"统计数据\", \"id\": \"样本数\", \"score\": numstat[\"score\"], \"battledate\": time.strftime(\"%Y-%m-%d\", time.localtime()), \n",
    "           \"mapdetail\": mapdetail, \"edition\": edition, \"hash\": \"%snum\"%mapabbr, \"statistics\": numstat}"
   ]
  },
  {
   "cell_type": "code",
   "execution_count": 17,
   "metadata": {},
   "outputs": [
    {
     "ename": "ModuleNotFoundError",
     "evalue": "No module named 'painter'",
     "output_type": "error",
     "traceback": [
      "\u001b[1;31m---------------------------------------------------------------------------\u001b[0m",
      "\u001b[1;31mModuleNotFoundError\u001b[0m                       Traceback (most recent call last)",
      "\u001b[1;32m<ipython-input-17-f75a9d77c605>\u001b[0m in \u001b[0;36m<module>\u001b[1;34m\u001b[0m\n\u001b[1;32m----> 1\u001b[1;33m \u001b[1;32mfrom\u001b[0m \u001b[0mpainter\u001b[0m \u001b[1;32mimport\u001b[0m \u001b[0mXiangZhiPainter\u001b[0m\u001b[1;33m\u001b[0m\u001b[1;33m\u001b[0m\u001b[0m\n\u001b[0m\u001b[0;32m      2\u001b[0m \u001b[1;33m\u001b[0m\u001b[0m\n\u001b[0;32m      3\u001b[0m \u001b[0mpainter\u001b[0m \u001b[1;33m=\u001b[0m \u001b[0mXiangZhiPainter\u001b[0m\u001b[1;33m(\u001b[0m\u001b[0mprintint\u001b[0m\u001b[1;33m=\u001b[0m\u001b[1;36m0\u001b[0m\u001b[1;33m)\u001b[0m\u001b[1;33m\u001b[0m\u001b[1;33m\u001b[0m\u001b[0m\n\u001b[0;32m      4\u001b[0m \u001b[0mpainter\u001b[0m\u001b[1;33m.\u001b[0m\u001b[0mpaint\u001b[0m\u001b[1;33m(\u001b[0m\u001b[0mavgInfo\u001b[0m\u001b[1;33m,\u001b[0m \u001b[1;34m\"average.png\"\u001b[0m\u001b[1;33m)\u001b[0m\u001b[1;33m\u001b[0m\u001b[1;33m\u001b[0m\u001b[0m\n\u001b[0;32m      5\u001b[0m \u001b[0mpainter\u001b[0m\u001b[1;33m.\u001b[0m\u001b[0mpaint\u001b[0m\u001b[1;33m(\u001b[0m\u001b[0mmedInfo\u001b[0m\u001b[1;33m,\u001b[0m \u001b[1;34m\"median.png\"\u001b[0m\u001b[1;33m)\u001b[0m\u001b[1;33m\u001b[0m\u001b[1;33m\u001b[0m\u001b[0m\n",
      "\u001b[1;31mModuleNotFoundError\u001b[0m: No module named 'painter'"
     ]
    }
   ],
   "source": [
    "from painter import XiangZhiPainter\n",
    "\n",
    "painter = XiangZhiPainter(printint=0)\n",
    "painter.paint(avgInfo, \"average.png\")\n",
    "painter.paint(medInfo, \"median.png\")\n",
    "painter.paint(maxInfo, \"maximun.png\")\n",
    "painter.paint(minInfo, \"minimum.png\")"
   ]
  },
  {
   "cell_type": "code",
   "execution_count": 23,
   "metadata": {},
   "outputs": [
    {
     "name": "stdout",
     "output_type": "stream",
     "text": [
      "{'num': 53, 'numOver': 0, 'result': 'success'}\n",
      "{'num': 54, 'numOver': 0, 'result': 'success'}\n",
      "{'num': 55, 'numOver': 0, 'result': 'success'}\n",
      "{'num': 56, 'numOver': 0, 'result': 'success'}\n"
     ]
    }
   ],
   "source": [
    "import json\n",
    "import urllib.request\n",
    "\n",
    "class MyEncoder(json.JSONEncoder):\n",
    "    def default(self, obj):\n",
    "        if isinstance(obj, np.integer):\n",
    "            return int(obj)\n",
    "        elif isinstance(obj, np.floating):\n",
    "            return float(obj)\n",
    "        elif isinstance(obj, np.ndarray):\n",
    "            return obj.tolist()\n",
    "        if isinstance(obj, time):\n",
    "            return obj.__str__()\n",
    "        else:\n",
    "            return super(NpEncoder, self).default(obj)\n",
    "\n",
    "def upLoadData(info):\n",
    "    Jdata = json.dumps(info, cls=MyEncoder)\n",
    "    jpost = {'jdata': Jdata}\n",
    "    jparse = urllib.parse.urlencode(jpost).encode('utf-8')\n",
    "    resp = urllib.request.urlopen('http://139.199.102.41:8009/uploadXiangZhiData', data = jparse)\n",
    "    res = json.load(resp)\n",
    "    return res\n",
    "\n",
    "res = upLoadData(avgInfo)\n",
    "print(res)\n",
    "res = upLoadData(medInfo)\n",
    "print(res)\n",
    "res = upLoadData(maxInfo)\n",
    "print(res)\n",
    "res = upLoadData(minInfo)\n",
    "print(res)"
   ]
  },
  {
   "cell_type": "code",
   "execution_count": 31,
   "metadata": {},
   "outputs": [
    {
     "name": "stdout",
     "output_type": "stream",
     "text": [
      "{'server': '统计数据', 'id': '最大值', 'score': 100, 'battledate': '2020-09-23', 'mapdetail': '25人英雄范阳夜变', 'edition': '3.5.0', 'hash': 'ydmaximum', 'statistics': {'score': 100, 'rateTable': [['周贽', 0.9628638537866396], ['厌夜', 0.9680685766492992], ['迟驻', 0.7644777520731318], ['白某', 0.8502291693492818], ['安小逢', 0.857025796131175], ['狼牙精锐', 0.8794934934798339]], 'maxDpsName': '厌夜', 'maxDpsTable': [['22', 153368.69649775108, '最大值', '22'], ['21', 134073.78747454355, '最大值', '21'], ['8', 122725.8688278695, '最大值', '8'], ['7', 120012.79064802699, '最大值', '7'], ['9', 119355.65363094829, '最大值', '9'], ['25', 113793.04531264471, '最大值', '25'], ['2', 112930.01299093067, '最大值', '2'], ['3', 109816.49000363576, '最大值', '3'], ['10', 109172.29234684742, '最大值', '10'], ['24', 106595.41989201418, '最大值', '24'], ['4', 102895.91381802401, '最大值', '4'], ['23', 102798.04419127644, '最大值', '23'], ['6', 102325.48761492998, '最大值', '6'], ['1', 91967.31240236801, '最大值', '1'], ['5', 87099.30871145906, '最大值', '5']], 'numheal': 77543069, 'maxDpsRank': 2, 'maxEqualDPS': 1.9818128195580624, 'hardBOSS': '安小逢', 'npcHealList': [['5', 913449, '最大值', '5'], ['6', 353263, '最大值', '6'], ['22', 336483, '最大值', '22'], ['2', 346661, '最大值', '2'], ['10', 27970, '最大值', '10'], ['1', 15717, '最大值', '1'], ['8', 36038, '最大值', '8'], ['25', 33081, '最大值', '25'], ['23', 18041, '最大值', '23'], ['3', 15858, '最大值', '3'], ['4', 19641, '最大值', '4'], ['21', 34138, '最大值', '21'], ['7', 19578, '最大值', '7']], 'healTable': [['周贽', 12292.0, 0.3101134594319651, 6.0, 6.0, 18925.0, 93.0, 322.0, 38.051075727096055], ['厌夜', 12405.0, 0.3626289502894482, 5.0, 5.0, 14626.0, 191.0, 537.0, 22.828685258964143], ['迟驻', 6819.0, 0.3592182155067677, 5.0, 5.0, 15636.0, 323.0, 824.0, 35.13157894736842], ['白某', 11048.0, 0.3622952480086506, 5.0, 5.0, 14273.0, 267.0, 658.0, 27.16417910447761], ['安小逢', 7271.0, 0.35073762738331943, 5.0, 5.0, 9759.0, 334.0, 988.0, 24.903474903474905], ['狼牙精锐', 623.0, 0.030744205796942634, 4.0, 4.0, 4846.0, 40.0, 88.91399999999999, 31.19597571913223]], 'hardNPC': '走火入魔玩家', 'sumDeath': 2, 'npcHeal': 336483, 'npcHealRate': 0.5652766230253732, 'dpsTable': [['周贽', 187769.84952485998, 17.0, 1.9818128195580624, 19.0], ['厌夜', 153368.69649775108, 2.0, 2.0408130054932325, 19.0], ['迟驻', 120389.42428904586, 19.0, 1.612387123536518, 20.0], ['白某', 101966.62511974943, 16.0, 1.6209023082446423, 19.0], ['安小逢', 89428.99810212837, 14.0, 1.7757976125330797, 19.0], ['狼牙精锐', 165150.62155549528, 4.0, 1.6859309923766244, 17.0]], 'numshield': 1062, 'numpurge': 7, 'healList': [['最大值', '22', 12292, 12405, 6819, 11048, 6555], ['最大值', '5', 19528, 14736, 13077, 19830, 12521], ['最大值', '6', 23384, 11621, 12592, 15781, 12640], ['最大值', '2', 23868, 17927, 14953, 17009, 13755]], 'maxSingleBreakName': '浮生若涟漪', 'spareRateList': [['周贽', 0.8822335527944074], ['厌夜', 0.6281111339448265], ['迟驻', 0.5989143046215386], ['白某', 0.5490533732553136], ['安小逢', 0.600809606399618], ['狼牙精锐', 0.3099595353087061]], 'numeffheal': 16562434, 'maxSingleBreak': 62, 'maxDps': 187769.84952485998, 'sumHit': 12, 'rateList': [['21', 0.9277485856489894, '最大值', '21'], ['8', 0.9267461403688662, '最大值', '8'], ['3', 0.9262169110725185, '最大值', '3'], ['7', 0.9240578223034033, '最大值', '7'], ['25', 0.9231487853876335, '最大值', '25'], ['23', 0.9144347743622178, '最大值', '23'], ['24', 0.9105660086153177, '最大值', '24'], ['5', 0.9016762745173307, '最大值', '5'], ['2', 0.8913809210883513, '最大值', '2'], ['9', 0.8908104445207281, '最大值', '9'], ['4', 0.8907107535008792, '最大值', '4'], ['22', 0.8806563949574922, '最大值', '22'], ['6', 0.8692763357474328, '最大值', '6'], ['10', 0.8615923744425682, '最大值', '10'], ['1', 0.8512294848709558, '最大值', '1']], 'bossRateDict': {'6': [0.8504563279857398, 0.9838804347826087, 0.9099201570680628], '2': [0.8278480392156863, 0.9771259079903147, 0.9163060109289618], '1': [0.7877837259100643, 0.9269119638826185, 0.9169245810055866], '4': [0.9135443548387097, 0.9239841688654353, 0.9325825627476882], '7': [0.9048383658969804, 0.9494509283819629, 1.0602477064220184], '5': [0.8604618473895582, 0.9611867881548974, 1.0346880733944954], '8': [0.8786298342541436, 0.9645929919137466, 0.9265706594885599], '3': [0.860874296435272, 0.947949002217295, 0.9329250985545335], '21': [0.8796472602739726, 0.9574079822616408, 0.9842565445026178], '25': [0.9441119592875318, 0.9431951219512195, 0.9464501800720289], '23': [0.9061459854014599, 0.9578830845771145, 0.9005406360424029], '9': [0.8424806629834254, 0.9217149425287356, 0.9288712011577424], '24': [0.8881066398390342, 0.9414783653846154, 0.9110670731707317], '22': [0.8343843058350101, 0.9233089005235602, 1.032256880733945], '10': [0.8238970099667774, 0.9170092378752887, 0.916083172147002]}, 'maxSingleRateName': '安卿尘', 'breakList': [['4', 62, '最大值', '4'], ['2', 56, '最大值', '2'], ['9', 54, '最大值', '9'], ['6', 54, '最大值', '6'], ['3', 52, '最大值', '3'], ['25', 52, '最大值', '25'], ['5', 51, '最大值', '5'], ['8', 51, '最大值', '8'], ['23', 50, '最大值', '23'], ['10', 50, '最大值', '10'], ['7', 48, '最大值', '7'], ['24', 48, '最大值', '24'], ['1', 46, '最大值', '1'], ['21', 46, '最大值', '21'], ['22', 46, '最大值', '22']], 'bossBreakDict': {'2': [21, 17, 18], '4': [23, 15, 22], '3': [21, 16, 14], '5': [22, 14, 20], '1': [21, 10, 18], '7': [23, 14, 16], '23': [20, 11, 18], '8': [21, 13, 23], '9': [21, 15, 15], '6': [21, 15, 20], '21': [20, 13, 18], '25': [21, 14, 18], '24': [19, 13, 17], '22': [20, 13, 18], '10': [18, 13, 18]}, 'hitCount': {'s22111': 0, 's22272': 0, 's24029': 6, 's22374': 0, 's22388': 0, 's22246': 0, 'b16842': 2, 's22356': 0, 'b16316': 0, 's22776': 0, 's24030': 7, 's22520': 0, 's23700': 3, 's24031': 4, 's23621': 0, 's22521': 0, 's22203': 0, 's22367': 0, 'b17301': 0, 'b17110': 0}, 'maxSingleRate': 0.9277485856489894, 'printTable': []}}\n"
     ]
    }
   ],
   "source": [
    "print(maxInfo)"
   ]
  },
  {
   "cell_type": "code",
   "execution_count": 32,
   "metadata": {},
   "outputs": [
    {
     "name": "stdout",
     "output_type": "stream",
     "text": [
      "score\n",
      "rateTable\n",
      "maxDpsName\n",
      "maxDpsTable\n",
      "numheal\n",
      "maxDpsRank\n",
      "maxEqualDPS\n",
      "hardBOSS\n",
      "npcHealList\n"
     ]
    },
    {
     "ename": "TypeError",
     "evalue": "Object of type int32 is not JSON serializable",
     "output_type": "error",
     "traceback": [
      "\u001b[1;31m---------------------------------------------------------------------------\u001b[0m",
      "\u001b[1;31mTypeError\u001b[0m                                 Traceback (most recent call last)",
      "\u001b[1;32m<ipython-input-32-29c41962242a>\u001b[0m in \u001b[0;36m<module>\u001b[1;34m\u001b[0m\n\u001b[0;32m      8\u001b[0m     \u001b[0mprint\u001b[0m\u001b[1;33m(\u001b[0m\u001b[0mkey\u001b[0m\u001b[1;33m)\u001b[0m\u001b[1;33m\u001b[0m\u001b[1;33m\u001b[0m\u001b[0m\n\u001b[0;32m      9\u001b[0m     \u001b[0mtestInfo\u001b[0m\u001b[1;33m[\u001b[0m\u001b[0mkey\u001b[0m\u001b[1;33m]\u001b[0m \u001b[1;33m=\u001b[0m \u001b[0mstat\u001b[0m\u001b[1;33m[\u001b[0m\u001b[0mkey\u001b[0m\u001b[1;33m]\u001b[0m\u001b[1;33m\u001b[0m\u001b[1;33m\u001b[0m\u001b[0m\n\u001b[1;32m---> 10\u001b[1;33m     \u001b[0mJdata\u001b[0m \u001b[1;33m=\u001b[0m \u001b[0mjson\u001b[0m\u001b[1;33m.\u001b[0m\u001b[0mdumps\u001b[0m\u001b[1;33m(\u001b[0m\u001b[0mtestInfo\u001b[0m\u001b[1;33m)\u001b[0m\u001b[1;33m\u001b[0m\u001b[1;33m\u001b[0m\u001b[0m\n\u001b[0m",
      "\u001b[1;32mC:\\ProgramData\\Anaconda3\\lib\\json\\__init__.py\u001b[0m in \u001b[0;36mdumps\u001b[1;34m(obj, skipkeys, ensure_ascii, check_circular, allow_nan, cls, indent, separators, default, sort_keys, **kw)\u001b[0m\n\u001b[0;32m    229\u001b[0m         \u001b[0mcls\u001b[0m \u001b[1;32mis\u001b[0m \u001b[1;32mNone\u001b[0m \u001b[1;32mand\u001b[0m \u001b[0mindent\u001b[0m \u001b[1;32mis\u001b[0m \u001b[1;32mNone\u001b[0m \u001b[1;32mand\u001b[0m \u001b[0mseparators\u001b[0m \u001b[1;32mis\u001b[0m \u001b[1;32mNone\u001b[0m \u001b[1;32mand\u001b[0m\u001b[1;33m\u001b[0m\u001b[1;33m\u001b[0m\u001b[0m\n\u001b[0;32m    230\u001b[0m         default is None and not sort_keys and not kw):\n\u001b[1;32m--> 231\u001b[1;33m         \u001b[1;32mreturn\u001b[0m \u001b[0m_default_encoder\u001b[0m\u001b[1;33m.\u001b[0m\u001b[0mencode\u001b[0m\u001b[1;33m(\u001b[0m\u001b[0mobj\u001b[0m\u001b[1;33m)\u001b[0m\u001b[1;33m\u001b[0m\u001b[1;33m\u001b[0m\u001b[0m\n\u001b[0m\u001b[0;32m    232\u001b[0m     \u001b[1;32mif\u001b[0m \u001b[0mcls\u001b[0m \u001b[1;32mis\u001b[0m \u001b[1;32mNone\u001b[0m\u001b[1;33m:\u001b[0m\u001b[1;33m\u001b[0m\u001b[1;33m\u001b[0m\u001b[0m\n\u001b[0;32m    233\u001b[0m         \u001b[0mcls\u001b[0m \u001b[1;33m=\u001b[0m \u001b[0mJSONEncoder\u001b[0m\u001b[1;33m\u001b[0m\u001b[1;33m\u001b[0m\u001b[0m\n",
      "\u001b[1;32mC:\\ProgramData\\Anaconda3\\lib\\json\\encoder.py\u001b[0m in \u001b[0;36mencode\u001b[1;34m(self, o)\u001b[0m\n\u001b[0;32m    197\u001b[0m         \u001b[1;31m# exceptions aren't as detailed.  The list call should be roughly\u001b[0m\u001b[1;33m\u001b[0m\u001b[1;33m\u001b[0m\u001b[1;33m\u001b[0m\u001b[0m\n\u001b[0;32m    198\u001b[0m         \u001b[1;31m# equivalent to the PySequence_Fast that ''.join() would do.\u001b[0m\u001b[1;33m\u001b[0m\u001b[1;33m\u001b[0m\u001b[1;33m\u001b[0m\u001b[0m\n\u001b[1;32m--> 199\u001b[1;33m         \u001b[0mchunks\u001b[0m \u001b[1;33m=\u001b[0m \u001b[0mself\u001b[0m\u001b[1;33m.\u001b[0m\u001b[0miterencode\u001b[0m\u001b[1;33m(\u001b[0m\u001b[0mo\u001b[0m\u001b[1;33m,\u001b[0m \u001b[0m_one_shot\u001b[0m\u001b[1;33m=\u001b[0m\u001b[1;32mTrue\u001b[0m\u001b[1;33m)\u001b[0m\u001b[1;33m\u001b[0m\u001b[1;33m\u001b[0m\u001b[0m\n\u001b[0m\u001b[0;32m    200\u001b[0m         \u001b[1;32mif\u001b[0m \u001b[1;32mnot\u001b[0m \u001b[0misinstance\u001b[0m\u001b[1;33m(\u001b[0m\u001b[0mchunks\u001b[0m\u001b[1;33m,\u001b[0m \u001b[1;33m(\u001b[0m\u001b[0mlist\u001b[0m\u001b[1;33m,\u001b[0m \u001b[0mtuple\u001b[0m\u001b[1;33m)\u001b[0m\u001b[1;33m)\u001b[0m\u001b[1;33m:\u001b[0m\u001b[1;33m\u001b[0m\u001b[1;33m\u001b[0m\u001b[0m\n\u001b[0;32m    201\u001b[0m             \u001b[0mchunks\u001b[0m \u001b[1;33m=\u001b[0m \u001b[0mlist\u001b[0m\u001b[1;33m(\u001b[0m\u001b[0mchunks\u001b[0m\u001b[1;33m)\u001b[0m\u001b[1;33m\u001b[0m\u001b[1;33m\u001b[0m\u001b[0m\n",
      "\u001b[1;32mC:\\ProgramData\\Anaconda3\\lib\\json\\encoder.py\u001b[0m in \u001b[0;36miterencode\u001b[1;34m(self, o, _one_shot)\u001b[0m\n\u001b[0;32m    255\u001b[0m                 \u001b[0mself\u001b[0m\u001b[1;33m.\u001b[0m\u001b[0mkey_separator\u001b[0m\u001b[1;33m,\u001b[0m \u001b[0mself\u001b[0m\u001b[1;33m.\u001b[0m\u001b[0mitem_separator\u001b[0m\u001b[1;33m,\u001b[0m \u001b[0mself\u001b[0m\u001b[1;33m.\u001b[0m\u001b[0msort_keys\u001b[0m\u001b[1;33m,\u001b[0m\u001b[1;33m\u001b[0m\u001b[1;33m\u001b[0m\u001b[0m\n\u001b[0;32m    256\u001b[0m                 self.skipkeys, _one_shot)\n\u001b[1;32m--> 257\u001b[1;33m         \u001b[1;32mreturn\u001b[0m \u001b[0m_iterencode\u001b[0m\u001b[1;33m(\u001b[0m\u001b[0mo\u001b[0m\u001b[1;33m,\u001b[0m \u001b[1;36m0\u001b[0m\u001b[1;33m)\u001b[0m\u001b[1;33m\u001b[0m\u001b[1;33m\u001b[0m\u001b[0m\n\u001b[0m\u001b[0;32m    258\u001b[0m \u001b[1;33m\u001b[0m\u001b[0m\n\u001b[0;32m    259\u001b[0m def _make_iterencode(markers, _default, _encoder, _indent, _floatstr,\n",
      "\u001b[1;32mC:\\ProgramData\\Anaconda3\\lib\\json\\encoder.py\u001b[0m in \u001b[0;36mdefault\u001b[1;34m(self, o)\u001b[0m\n\u001b[0;32m    177\u001b[0m \u001b[1;33m\u001b[0m\u001b[0m\n\u001b[0;32m    178\u001b[0m         \"\"\"\n\u001b[1;32m--> 179\u001b[1;33m         raise TypeError(f'Object of type {o.__class__.__name__} '\n\u001b[0m\u001b[0;32m    180\u001b[0m                         f'is not JSON serializable')\n\u001b[0;32m    181\u001b[0m \u001b[1;33m\u001b[0m\u001b[0m\n",
      "\u001b[1;31mTypeError\u001b[0m: Object of type int32 is not JSON serializable"
     ]
    }
   ],
   "source": [
    "maxInfo[\"score\"] = int(maxInfo[\"score\"])\n",
    "minInfo[\"score\"] = int(minInfo[\"score\"])\n",
    "maxInfo[\"statistics\"][\"score\"] = int(maxInfo[\"score\"])\n",
    "minInfo[\"statistics\"][\"score\"] = int(minInfo[\"score\"])\n",
    "testInfo = {}\n",
    "stat = maxInfo[\"statistics\"]\n",
    "for key in stat:\n",
    "    print(key)\n",
    "    testInfo[key] = stat[key]\n",
    "    Jdata = json.dumps(testInfo)"
   ]
  },
  {
   "cell_type": "code",
   "execution_count": 24,
   "metadata": {},
   "outputs": [
    {
     "name": "stdout",
     "output_type": "stream",
     "text": [
      "{'server': '统计数据', 'id': '样本数', 'score': 51, 'battledate': '2020-11-10', 'mapdetail': '25人普通达摩洞', 'edition': '5.1.0', 'hash': 'ptdmdnum', 'statistics': {'score': 51, 'numeffheal': 51, 'hardNPC': '未知', 'npcRank': 51, 'maxDpsRank': 51, 'sumDeath': 51, 'healTable': [27, 24, 21, 28, 22, 21], 'rateTable': [27, 24, 21, 28, 22, 21], 'npcNum': 51, 'sumHit': 51, 'maxDpsName': '余晖', 'maxDpsTable': [24, 24, 30, 47, 29, 27, 16, 21, 19, 32, 34, 29, 18, 31, 24, 23, 10, 21, 27, 3, 3, 12, 17, 2, 4, 1], 'overallrate': 51, 'npcHealList': [], 'maxEqualDPS': 51, 'maxDps': 51, 'maxSingleBreakName': '媚骨骨的跟宠', 'numpurge': 51, 'maxSingleRate': 51, 'maxSingleRateName': '亮亮也是酿酿', 'hardBOSS': '未知', 'rateList': [50, 75, 59, 103, 88, 51, 91, 97, 43, 65, 42, 105, 54, 29, 49, 15], 'bossRateDict': {'23': 50, '5': 75, '10': 59, '6': 103, '8': 88, '2': 51, '4': 91, '3': 97, '24': 43, '21': 65, '1': 42, '7': 105, '211': 54, '9': 29, '25': 49, '22': 15}, 'npcHealRate': 51, 'healList': [12, 10, 13, 12], 'numheal': 51, 'npcHeal': 51, 'spareRateList': [27, 24, 21, 28, 22, 21], 'hitCount': {'s22520': 51, 'b16316': 51, 'b16842': 51, 's22272': 51, 's22246': 51, 's22367': 51, 's22111': 51, 's24031': 51, 's24029': 51, 'b17301': 51, 's22776': 51, 's22203': 51, 's22374': 51, 'b17110': 51, 's24030': 51, 's22388': 51, 's22521': 51, 's23700': 51, 's23621': 51, 's22356': 51}, 'dpsTable': [27, 24, 21, 28, 22, 21], 'breakList': [91, 105, 97, 88, 43, 29, 59, 51, 50, 103, 54, 65, 42, 75, 49, 15], 'bossBreakDict': {'4': 91, '7': 105, '3': 97, '8': 88, '24': 43, '9': 29, '10': 59, '2': 51, '23': 50, '6': 103, '211': 54, '21': 65, '1': 42, '5': 75, '25': 49, '22': 15}, 'numshield': 51, 'maxSingleBreak': 51, 'spareRate': 51, 'speed': 28, 'printTable': []}}\n"
     ]
    }
   ],
   "source": [
    "print(numInfo)"
   ]
  },
  {
   "cell_type": "code",
   "execution_count": 24,
   "metadata": {},
   "outputs": [
    {
     "name": "stdout",
     "output_type": "stream",
     "text": [
      "<class 'numpy.int32'>\n"
     ]
    }
   ],
   "source": [
    "print(type(maxInfo[\"statistics\"][\"numheal\"]))\n",
    "\n"
   ]
  },
  {
   "cell_type": "code",
   "execution_count": 27,
   "metadata": {},
   "outputs": [
    {
     "data": {
      "text/plain": [
       "True"
      ]
     },
     "execution_count": 27,
     "metadata": {},
     "output_type": "execute_result"
    }
   ],
   "source": [
    "type(maxInfo[\"statistics\"][\"numheal\"]) == type(np.array([1])[0])"
   ]
  }
 ],
 "metadata": {
  "kernelspec": {
   "display_name": "Python 3",
   "language": "python",
   "name": "python3"
  },
  "language_info": {
   "codemirror_mode": {
    "name": "ipython",
    "version": 3
   },
   "file_extension": ".py",
   "mimetype": "text/x-python",
   "name": "python",
   "nbconvert_exporter": "python",
   "pygments_lexer": "ipython3",
   "version": "3.7.4"
  }
 },
 "nbformat": 4,
 "nbformat_minor": 2
}
