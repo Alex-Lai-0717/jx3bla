{
 "cells": [
  {
   "cell_type": "code",
   "execution_count": 1,
   "metadata": {},
   "outputs": [],
   "source": [
    "import numpy as np\n",
    "import pymysql\n",
    "import configparser\n",
    "import json\n",
    "import time"
   ]
  },
  {
   "cell_type": "code",
   "execution_count": 2,
   "metadata": {},
   "outputs": [
    {
     "name": "stderr",
     "output_type": "stream",
     "text": [
      "C:\\ProgramData\\Anaconda3\\lib\\site-packages\\ipykernel_launcher.py:3: DeprecationWarning: This method will be removed in future versions.  Use 'parser.read_file()' instead.\n",
      "  This is separate from the ipykernel package so we can avoid doing imports until\n"
     ]
    }
   ],
   "source": [
    "ip = \"139.199.102.41\"\n",
    "config = configparser.RawConfigParser()\n",
    "config.readfp(open('./settings.cfg'))\n",
    "\n",
    "dbname = config.get('jx3bla', 'username')\n",
    "dbpwd = config.get('jx3bla', 'password')\n",
    "db = pymysql.connect(ip,dbname,dbpwd,\"jx3bla\",port=3306,charset='utf8')\n",
    "cursor = db.cursor()"
   ]
  },
  {
   "cell_type": "code",
   "execution_count": 3,
   "metadata": {},
   "outputs": [],
   "source": [
    "edition = \"3.5.0\"\n",
    "mapdetail = \"25人英雄范阳夜变\"\n",
    "\n",
    "sql = \"\"\"SELECT * FROM XiangZhiStat WHERE edition='3.5.0' AND mapdetail='25人英雄范阳夜变'\"\"\"\n",
    "cursor.execute(sql)\n",
    "result = cursor.fetchall()"
   ]
  },
  {
   "cell_type": "code",
   "execution_count": 4,
   "metadata": {},
   "outputs": [],
   "source": [
    "allstat = {}\n",
    "allstat[\"score\"] = []\n",
    "for line in result:\n",
    "    stat = json.loads(line[7].replace(\"'\", '\"'))\n",
    "    for key in stat:\n",
    "        if key not in allstat:\n",
    "            allstat[key] = [stat[key]]\n",
    "        else:\n",
    "            allstat[key].append(stat[key])\n",
    "    allstat[\"score\"].append(line[2])"
   ]
  },
  {
   "cell_type": "code",
   "execution_count": null,
   "metadata": {},
   "outputs": [],
   "source": []
  },
  {
   "cell_type": "code",
   "execution_count": null,
   "metadata": {},
   "outputs": [],
   "source": []
  },
  {
   "cell_type": "code",
   "execution_count": 28,
   "metadata": {},
   "outputs": [
    {
     "name": "stdout",
     "output_type": "stream",
     "text": [
      "{'score': 89.23076923076923, 'rateTable': [['周贽', 0.7914066333169886], ['厌夜', 0.8998612680217744], ['迟驻', 0.5136068508431105], ['白某', 0.6825315551770025], ['安小逢', 0.6662800747837796], ['狼牙精锐', 0.7780138531718797]], 'maxDpsName': '厌夜', 'maxDpsTable': [['22', 105518.14967610614, '平均数', '22'], ['1', 51545.324794884764, '平均数', '1'], ['9', 79708.29142311263, '平均数', '9'], ['6', 35988.06401033271, '平均数', '6'], ['4', 65020.34932723554, '平均数', '4'], ['5', 54810.12930242369, '平均数', '5'], ['8', 70592.41804299034, '平均数', '8'], ['21', 77698.91993555789, '平均数', '21'], ['7', 71297.1728901754, '平均数', '7'], ['10', 26795.98421862204, '平均数', '10'], ['3', 35639.8465703671, '平均数', '3'], ['2', 65958.36685809298, '平均数', '2'], ['23', 64098.44660184537, '平均数', '23'], ['25', 78103.9182248314, '平均数', '25'], ['24', 72231.7835806368, '平均数', '24']], 'numheal': 31562590.945054945, 'maxDpsRank': 1.0384615384615385, 'maxEqualDPS': 1.5952127815678567, 'hardBOSS': '安小逢', 'npcHealList': [['5', 135549.77990430623, '平均数', '5'], ['6', 88362.77777777778, '平均数', '6'], ['22', 88934.36257309941, '平均数', '22'], ['2', 79597.31404958677, '平均数', '2'], ['10', 13016.09090909091, '平均数', '10'], ['1', 6747.0, '平均数', '1'], ['8', 20978.0, '平均数', '8'], ['25', 27723.666666666668, '平均数', '25'], ['23', 17928.0, '平均数', '23'], ['3', 15858.0, '平均数', '3'], ['4', 15549.6, '平均数', '4'], ['21', 21981.666666666668, '平均数', '21'], ['7', 19578.0, '平均数', '7']], 'healTable': [['周贽', 2960.7383720930234, 0.10584785876073197, 3.9127906976744184, 4.02906976744186, 7841.5988372093025, 55.877906976744185, 153.3845930232558, 22.022508102641048], ['厌夜', 2058.4088397790056, 0.11777553520170012, 3.8011049723756907, 4.027624309392265, 7346.591160220994, 102.09944751381215, 436.4033149171271, 14.04436412552292], ['迟驻', 2071.3241758241757, 0.10282721809650192, 3.934065934065934, 3.989010989010989, 9665.895604395604, 228.52197802197801, 566.7802197802198, 24.471220355725862], ['白某', 3327.28021978022, 0.11590638631273244, 3.912087912087912, 4.0, 8005.3626373626375, 142.45054945054946, 432.15934065934067, 19.80005288259214], ['安小逢', 2191.0224719101125, 0.10385477001068885, 3.9831460674157304, 4.050561797752809, 5725.898876404494, 204.56179775280899, 750.6910112359551, 16.525660022600665], ['狼牙精锐', 603.0, 0.0276968471619189, 4.0, 4.0, 3634.0, 32.5, 82.92349999999999, 24.03310493899118]], 'hardNPC': '走火入魔玩家', 'sumDeath': 0.2087912087912088, 'npcHeal': 83535.57692307692, 'npcHealRate': 0.21225185938883365, 'dpsTable': [['周贽', 120162.57871988918, 1.9883720930232558, 1.443992004615059, 15.877906976744185], ['厌夜', 119672.62636346088, 1.0386740331491713, 1.6264777965757307, 15.850828729281767], ['迟驻', 66899.00402205298, 7.3901098901098905, 0.9681591263285863, 15.5], ['白某', 74693.79034936584, 3.076923076923077, 1.19717333545701, 15.401098901098901], ['安小逢', 61094.084157402096, 3.241573033707865, 1.2160328212294929, 14.814606741573034], ['狼牙精锐', 129954.32815643487, 2.5, 1.3797117976197681, 16.0]], 'numshield': 725.7417582417582, 'numpurge': 0.6153846153846154, 'healList': [['平均数', '22', 2844.568181818182, 1978.5113636363637, 1995.9431818181818, 3182.534090909091, 2085.6420454545455], ['平均数', '5', 8686.862831858407, 5307.3230088495575, 5220.0, 7857.694690265486, 5925.969026548672], ['平均数', '6', 5696.5, 3215.4032258064517, 5763.6720430107525, 7522.489247311828, 5524.301075268817], ['平均数', '2', 8241.070967741936, 5228.5741935483875, 5288.5161290322585, 7222.929032258065, 5909.858064516129]], 'maxSingleBreakName': '浮生若涟漪', 'spareRateList': [['周贽', 0.1511512373126699], ['厌夜', 0.19276657819062903], ['迟驻', 0.18622772360463294], ['白某', 0.18393053679073598], ['安小逢', 0.2696368519860099], ['狼牙精锐', 0.24712282611666636]], 'numeffheal': 5545953.456043956, 'maxSingleBreak': 39.69230769230769, 'maxDps': 123957.61262736101, 'sumHit': 3.1758241758241756, 'rateList': [['6', 0.6589729539115136, '平均数', '6'], ['2', 0.647524855823839, '平均数', '2'], ['1', 0.5555080474044073, '平均数', '1'], ['4', 0.6750597853409676, '平均数', '4'], ['7', 0.6659086364330892, '平均数', '7'], ['5', 0.6693341157629807, '平均数', '5'], ['8', 0.6638610947424027, '平均数', '8'], ['3', 0.6082761079502083, '平均数', '3'], ['21', 0.65644081679823, '平均数', '21'], ['25', 0.6924762461905253, '平均数', '25'], ['23', 0.6460022045383185, '平均数', '23'], ['9', 0.6331469796120615, '平均数', '9'], ['24', 0.624854086291705, '平均数', '24'], ['22', 0.6431977546234646, '平均数', '22'], ['10', 0.5857047291622637, '平均数', '10']], 'bossRateDict': {'6': [0.4803194290064288, 0.655585630600027, 0.6174199392077063], '2': [0.4740810931787309, 0.6543689761617559, 0.5891608734811711], '1': [0.46426175277842974, 0.5684272374607493, 0.44890605472134093], '4': [0.5124101232905754, 0.6688172878254406, 0.6255871853977404], '7': [0.479421712702488, 0.6590188680001924, 0.6373354984032593], '5': [0.4745230210099335, 0.6738534912257005, 0.6380726255117167], '8': [0.509628095578714, 0.6660039144875938, 0.607669708022623], '3': [0.4824428832215801, 0.6075774716324683, 0.5289085190859142], '21': [0.5171862226184428, 0.6587337700556701, 0.5965669789196124], '25': [0.5344618352786464, 0.6861241559627056, 0.6444564752066847], '23': [0.5066972769847811, 0.6480151488534158, 0.565686958399913], '9': [0.4723356305720335, 0.6474519840443841, 0.565089472111863], '24': [0.47616993440491057, 0.6082254286703321, 0.5668425392729295], '22': [0.46890283729608523, 0.6190114302327699, 0.6126565980014752], '10': [0.46525950001521077, 0.6045267005918832, 0.47738885636764794]}, 'maxSingleRateName': '安卿尘', 'breakList': [['2', 28.628440366972477, '平均数', '2'], ['4', 29.2901023890785, '平均数', '4'], ['3', 25.711111111111112, '平均数', '3'], ['5', 29.380555555555556, '平均数', '5'], ['1', 24.523809523809526, '平均数', '1'], ['7', 26.729299363057326, '平均数', '7'], ['23', 28.614035087719298, '平均数', '23'], ['8', 28.57563025210084, '平均数', '8'], ['9', 28.559633027522935, '平均数', '9'], ['6', 28.736641221374047, '平均数', '6'], ['21', 28.56053811659193, '平均数', '21'], ['25', 30.302702702702703, '平均数', '25'], ['24', 28.5, '平均数', '24'], ['22', 28.93846153846154, '平均数', '22'], ['10', 27.051470588235293, '平均数', '10']], 'bossBreakDict': {'2': [11.399082568807339, 5.935779816513762, 8.495412844036696], '4': [11.416382252559726, 6.013651877133106, 8.750853242320819], '3': [10.783333333333333, 5.333333333333333, 5.861111111111111], '5': [11.041666666666666, 5.8805555555555555, 8.827777777777778], '1': [10.53968253968254, 5.063492063492063, 5.182539682539683], '7': [10.512738853503185, 5.942675159235669, 8.044585987261147], '23': [10.748538011695906, 5.701754385964913, 8.409356725146198], '8': [11.176470588235293, 6.0588235294117645, 7.533613445378151], '9': [11.440366972477063, 5.990825688073395, 7.908256880733945], '6': [11.366412213740459, 6.038167938931298, 8.65648854961832], '21': [11.452914798206278, 6.013452914798206, 7.089686098654709], '25': [11.8, 6.513513513513513, 8.405405405405405], '24': [11.091836734693878, 5.969387755102041, 7.938775510204081], '22': [11.446153846153846, 6.292307692307692, 8.153846153846153], '10': [10.264705882352942, 5.463235294117647, 6.257352941176471]}, 'hitCount': {'s22111': 0.0, 's22272': 0.0, 's24029': 0.5494505494505495, 's22374': 0.0, 's22388': 0.0, 's22246': 0.0, 'b16842': 0.08791208791208792, 's22356': 0.0, 'b16316': 0.0, 's22776': 0.0, 's24030': 1.5274725274725274, 's22520': 0.0, 's23700': 0.10989010989010989, 's24031': 0.9010989010989011, 's23621': 0.0, 's22521': 0.0, 's22203': 0.0, 's22367': 0.0, 'b17301': 0.0, 'b17110': 0.0}, 'maxSingleRate': 0.8033280580221002, 'printTable': []}\n"
     ]
    }
   ],
   "source": [
    "avgstat = {}\n",
    "medstat = {}\n",
    "maxstat = {}\n",
    "minstat = {}\n",
    "numstat = {}\n",
    "\n",
    "for key in allstat:\n",
    "    data = allstat[key]\n",
    "    if type(data[0]) == type(0) or type(data[0]) == type(0.0):\n",
    "        nData = np.array(data)\n",
    "        avgstat[key] = np.mean(nData)\n",
    "        medstat[key] = np.median(nData)\n",
    "        maxstat[key] = np.max(nData)\n",
    "        minstat[key] = np.min(nData)\n",
    "        numstat[key] = nData.shape[0]\n",
    "    elif key in [\"healTable\", \"dpsTable\", \"spareRateList\", \"rateTable\"]:\n",
    "        bossData = {}\n",
    "        for record in data:\n",
    "            for line in record:\n",
    "                if line[0] not in bossData:\n",
    "                    bossData[line[0]] = [line[1:]]\n",
    "                else:\n",
    "                    bossData[line[0]].append(line[1:])\n",
    "        avgstat[key] = []\n",
    "        medstat[key] = []\n",
    "        maxstat[key] = []\n",
    "        minstat[key] = []\n",
    "        numstat[key] = []\n",
    "        for line in bossData:\n",
    "            nData = np.array(bossData[line])\n",
    "            avgstat[key].append([line] + list(np.mean(nData, axis=0)))\n",
    "            medstat[key].append([line] + list(np.median(nData, axis=0)))\n",
    "            maxstat[key].append([line] + list(np.max(nData, axis=0)))\n",
    "            minstat[key].append([line] + list(np.min(nData, axis=0)))\n",
    "            numstat[key].append(nData.shape[0])\n",
    "    elif key in [\"breakList\", \"rateList\"]:\n",
    "        if key == \"breakList\":\n",
    "            subkey = \"bossBreakDict\"\n",
    "        elif key == \"rateList\":\n",
    "            subkey = \"bossRateDict\"\n",
    "        occData = {}\n",
    "        for i in range(len(data)):\n",
    "            for line in data[i]:\n",
    "                if line[3] not in occData:\n",
    "                    occData[line[3]] = [[line[1]] + allstat[subkey][i][line[0]]]\n",
    "                else:\n",
    "                    occData[line[3]].append([line[1]] + allstat[subkey][i][line[0]])\n",
    "        avgstat[key] = []\n",
    "        medstat[key] = []\n",
    "        maxstat[key] = []\n",
    "        minstat[key] = []\n",
    "        numstat[key] = []\n",
    "        avgstat[subkey] = {}\n",
    "        medstat[subkey] = {}\n",
    "        maxstat[subkey] = {}\n",
    "        minstat[subkey] = {}\n",
    "        numstat[subkey] = {}\n",
    "        for line in occData:\n",
    "            nData = np.array(occData[line])\n",
    "            avgstat[key].append([line, np.mean(nData[:, 0]), \"平均数\", line])\n",
    "            medstat[key].append([line, np.median(nData[:, 0]), \"中位数\", line])\n",
    "            maxstat[key].append([line, np.max(nData[:, 0]), \"最大值\", line])\n",
    "            minstat[key].append([line, np.min(nData[:, 0]), \"最小值\", line])\n",
    "            numstat[key].append(nData.shape[0])\n",
    "            avgstat[subkey][line] = list(np.mean(nData[:, 1:], axis=0))\n",
    "            medstat[subkey][line] = list(np.median(nData[:, 1:], axis=0))\n",
    "            maxstat[subkey][line] = list(np.max(nData[:, 1:], axis=0))\n",
    "            minstat[subkey][line] = list(np.min(nData[:, 1:], axis=0))\n",
    "            numstat[subkey][line] = nData.shape[0]\n",
    "            \n",
    "    elif key in [\"npcHealList\"]:\n",
    "        occData = {}\n",
    "        for i in range(len(data)):\n",
    "            for line in data[i]:\n",
    "                if line[3] not in occData:\n",
    "                    occData[line[3]] = [line[1]]\n",
    "                else:\n",
    "                    occData[line[3]].append(line[1])\n",
    "        avgstat[key] = []\n",
    "        medstat[key] = []\n",
    "        maxstat[key] = []\n",
    "        minstat[key] = []\n",
    "        numstat[key] = []\n",
    "        for line in occData:\n",
    "            nData = np.array(occData[line])\n",
    "            avgstat[key].append([line, np.mean(nData), \"平均数\", line])\n",
    "            medstat[key].append([line, np.median(nData), \"中位数\", line])\n",
    "            maxstat[key].append([line, np.max(nData), \"最大值\", line])\n",
    "            minstat[key].append([line, np.min(nData), \"最小值\", line])\n",
    "            numstat[key].append(nData.shape[0])\n",
    "    elif key in [\"healList\"]:\n",
    "        occData = {}\n",
    "        for i in range(len(data)):\n",
    "            for line in data[i]:\n",
    "                if len(line) <= 6:\n",
    "                    continue\n",
    "                if line[1] not in occData:\n",
    "                    occData[line[1]] = [line[2:]]\n",
    "                else:\n",
    "                    occData[line[1]].append(line[2:])\n",
    "        avgstat[key] = []\n",
    "        medstat[key] = []\n",
    "        maxstat[key] = []\n",
    "        minstat[key] = []\n",
    "        numstat[key] = []\n",
    "        for line in occData:\n",
    "            nData = np.array(occData[line])\n",
    "            avgstat[key].append([\"平均数\", line] + list(np.mean(nData, axis = 0)))\n",
    "            medstat[key].append([\"中位数\", line] + list(np.median(nData, axis = 0)))\n",
    "            maxstat[key].append([\"最大值\", line] + list(np.max(nData, axis = 0)))\n",
    "            minstat[key].append([\"最小值\", line] + list(np.min(nData, axis = 0)))\n",
    "            numstat[key].append(nData.shape[0])\n",
    "    elif key in [\"hitCount\"]:\n",
    "        hitData = {}\n",
    "        for line in data:\n",
    "            for skillkey in line:\n",
    "                if skillkey not in hitData:\n",
    "                    hitData[skillkey] = [line[skillkey]]\n",
    "                else:\n",
    "                    hitData[skillkey].append(line[skillkey])\n",
    "        avgstat[key] = {}\n",
    "        medstat[key] = {}\n",
    "        maxstat[key] = {}\n",
    "        minstat[key] = {}\n",
    "        numstat[key] = {}\n",
    "        for skillkey in hitData:\n",
    "            nData = np.array(hitData[skillkey])\n",
    "            avgstat[key][skillkey] = np.mean(nData)\n",
    "            medstat[key][skillkey] = np.median(nData)\n",
    "            maxstat[key][skillkey] = np.max(nData)\n",
    "            minstat[key][skillkey] = np.min(nData)\n",
    "            numstat[key][skillkey] = nData.shape[0]\n",
    "    elif key in [\"hardBOSS\", \"hardNPC\", \"maxSingleBreakName\", \"maxSingleRateName\"]:\n",
    "        avgstat[key] = data[0]\n",
    "        medstat[key] = data[0]\n",
    "        maxstat[key] = data[0]\n",
    "        minstat[key] = data[0]\n",
    "        numstat[key] = data[0]\n",
    "    elif key in [\"maxDpsTable\"]:\n",
    "        occData = {}\n",
    "        for i in range(len(data)):\n",
    "            if allstat[\"maxDpsName\"][i] not in [\"厌夜\", \"藤原武裔\"]:\n",
    "                continue\n",
    "            avgstat[\"maxDpsName\"] = allstat[\"maxDpsName\"][i]\n",
    "            medstat[\"maxDpsName\"] = allstat[\"maxDpsName\"][i]\n",
    "            maxstat[\"maxDpsName\"] = allstat[\"maxDpsName\"][i]\n",
    "            minstat[\"maxDpsName\"] = allstat[\"maxDpsName\"][i]\n",
    "            numstat[\"maxDpsName\"] = allstat[\"maxDpsName\"][i]\n",
    "            for line in data[i]:\n",
    "                if line[3] not in occData:\n",
    "                    occData[line[3]] = [line[1]]\n",
    "                else:\n",
    "                    occData[line[3]].append(line[1])\n",
    "        avgstat[key] = []\n",
    "        medstat[key] = []\n",
    "        maxstat[key] = []\n",
    "        minstat[key] = []\n",
    "        numstat[key] = []\n",
    "        for line in occData:\n",
    "            nData = np.array(occData[line])\n",
    "            avgstat[key].append([line, np.mean(nData), \"平均数\", line])\n",
    "            medstat[key].append([line, np.median(nData), \"中位数\", line])\n",
    "            maxstat[key].append([line, np.max(nData), \"最大值\", line])\n",
    "            minstat[key].append([line, np.min(nData), \"最小值\", line])\n",
    "            numstat[key].append(nData.shape[0])\n",
    "    elif key in [\"bossBreakDict\", \"bossRateDict\", \"printTable\", \"maxDpsName\"]:\n",
    "        pass\n",
    "    else:\n",
    "        pass\n",
    "        print(key)\n",
    "        print(data[0])\n",
    "avgstat[\"printTable\"] = []\n",
    "medstat[\"printTable\"] = []\n",
    "maxstat[\"printTable\"] = []\n",
    "minstat[\"printTable\"] = []\n",
    "numstat[\"printTable\"] = []\n",
    "print(avgstat)\n",
    "\n",
    "for key in [\"maxDpsTable\", \"rateList\", \"breakList\"]:\n",
    "    avgstat[key].sort(key=lambda x:-x[1])\n",
    "    medstat[key].sort(key=lambda x:-x[1])\n",
    "    maxstat[key].sort(key=lambda x:-x[1])\n",
    "    minstat[key].sort(key=lambda x:-x[1])\n"
   ]
  },
  {
   "cell_type": "code",
   "execution_count": 29,
   "metadata": {},
   "outputs": [],
   "source": [
    "if mapdetail == \"25人英雄范阳夜变\":\n",
    "    mapabbr = \"yd\"\n",
    "elif mapdetail == \"25人英雄敖龙岛\":\n",
    "    mapabbr = \"ald\"\n",
    "\n",
    "avgInfo = {\"server\": \"统计数据\", \"id\": \"平均数\", \"score\": avgstat[\"score\"], \"battledate\": time.strftime(\"%Y-%m-%d\", time.localtime()), \n",
    "           \"mapdetail\": mapdetail, \"edition\": edition, \"hash\": \"%saverage\"%mapabbr, \"statistics\": avgstat}\n",
    "medInfo = {\"server\": \"统计数据\", \"id\": \"中位数\", \"score\": medstat[\"score\"], \"battledate\": time.strftime(\"%Y-%m-%d\", time.localtime()), \n",
    "           \"mapdetail\": mapdetail, \"edition\": edition, \"hash\": \"%smedian\"%mapabbr, \"statistics\": medstat}\n",
    "maxInfo = {\"server\": \"统计数据\", \"id\": \"最大值\", \"score\": maxstat[\"score\"], \"battledate\": time.strftime(\"%Y-%m-%d\", time.localtime()), \n",
    "           \"mapdetail\": mapdetail, \"edition\": edition, \"hash\": \"%smaximum\"%mapabbr, \"statistics\": maxstat}\n",
    "minInfo = {\"server\": \"统计数据\", \"id\": \"最小值\", \"score\": minstat[\"score\"], \"battledate\": time.strftime(\"%Y-%m-%d\", time.localtime()), \n",
    "           \"mapdetail\": mapdetail, \"edition\": edition, \"hash\": \"%sminimum\"%mapabbr, \"statistics\": minstat}\n",
    "numInfo = {\"server\": \"统计数据\", \"id\": \"样本数\", \"score\": numstat[\"score\"], \"battledate\": time.strftime(\"%Y-%m-%d\", time.localtime()), \n",
    "           \"mapdetail\": mapdetail, \"edition\": edition, \"hash\": \"%snum\"%mapabbr, \"statistics\": numstat}"
   ]
  },
  {
   "cell_type": "code",
   "execution_count": 8,
   "metadata": {},
   "outputs": [],
   "source": [
    "from painter import XiangZhiPainter\n",
    "\n",
    "painter = XiangZhiPainter(printint=0)\n",
    "painter.paint(avgInfo, \"average.png\")\n",
    "painter.paint(medInfo, \"median.png\")\n",
    "painter.paint(maxInfo, \"maximun.png\")\n",
    "painter.paint(minInfo, \"minimum.png\")"
   ]
  },
  {
   "cell_type": "code",
   "execution_count": 33,
   "metadata": {},
   "outputs": [
    {
     "name": "stdout",
     "output_type": "stream",
     "text": [
      "{'num': 285, 'numOver': 90, 'result': 'dupid'}\n",
      "{'num': 285, 'numOver': 144, 'result': 'dupid'}\n",
      "{'num': 285, 'numOver': 266, 'result': 'success'}\n",
      "{'num': 286, 'numOver': 1, 'result': 'success'}\n"
     ]
    }
   ],
   "source": [
    "import json\n",
    "import urllib.request\n",
    "\n",
    "class MyEncoder(json.JSONEncoder):\n",
    "    def default(self, obj):\n",
    "        if isinstance(obj, np.integer):\n",
    "            return int(obj)\n",
    "        elif isinstance(obj, np.floating):\n",
    "            return float(obj)\n",
    "        elif isinstance(obj, np.ndarray):\n",
    "            return obj.tolist()\n",
    "        if isinstance(obj, time):\n",
    "            return obj.__str__()\n",
    "        else:\n",
    "            return super(NpEncoder, self).default(obj)\n",
    "\n",
    "def upLoadData(info):\n",
    "    Jdata = json.dumps(info, cls=MyEncoder)\n",
    "    jpost = {'jdata': Jdata}\n",
    "    jparse = urllib.parse.urlencode(jpost).encode('utf-8')\n",
    "    resp = urllib.request.urlopen('http://139.199.102.41:8009/uploadXiangZhiData', data = jparse)\n",
    "    res = json.load(resp)\n",
    "    return res\n",
    "\n",
    "res = upLoadData(avgInfo)\n",
    "print(res)\n",
    "res = upLoadData(medInfo)\n",
    "print(res)\n",
    "res = upLoadData(maxInfo)\n",
    "print(res)\n",
    "res = upLoadData(minInfo)\n",
    "print(res)"
   ]
  },
  {
   "cell_type": "code",
   "execution_count": 31,
   "metadata": {},
   "outputs": [
    {
     "name": "stdout",
     "output_type": "stream",
     "text": [
      "{'server': '统计数据', 'id': '最大值', 'score': 100, 'battledate': '2020-09-23', 'mapdetail': '25人英雄范阳夜变', 'edition': '3.5.0', 'hash': 'ydmaximum', 'statistics': {'score': 100, 'rateTable': [['周贽', 0.9628638537866396], ['厌夜', 0.9680685766492992], ['迟驻', 0.7644777520731318], ['白某', 0.8502291693492818], ['安小逢', 0.857025796131175], ['狼牙精锐', 0.8794934934798339]], 'maxDpsName': '厌夜', 'maxDpsTable': [['22', 153368.69649775108, '最大值', '22'], ['21', 134073.78747454355, '最大值', '21'], ['8', 122725.8688278695, '最大值', '8'], ['7', 120012.79064802699, '最大值', '7'], ['9', 119355.65363094829, '最大值', '9'], ['25', 113793.04531264471, '最大值', '25'], ['2', 112930.01299093067, '最大值', '2'], ['3', 109816.49000363576, '最大值', '3'], ['10', 109172.29234684742, '最大值', '10'], ['24', 106595.41989201418, '最大值', '24'], ['4', 102895.91381802401, '最大值', '4'], ['23', 102798.04419127644, '最大值', '23'], ['6', 102325.48761492998, '最大值', '6'], ['1', 91967.31240236801, '最大值', '1'], ['5', 87099.30871145906, '最大值', '5']], 'numheal': 77543069, 'maxDpsRank': 2, 'maxEqualDPS': 1.9818128195580624, 'hardBOSS': '安小逢', 'npcHealList': [['5', 913449, '最大值', '5'], ['6', 353263, '最大值', '6'], ['22', 336483, '最大值', '22'], ['2', 346661, '最大值', '2'], ['10', 27970, '最大值', '10'], ['1', 15717, '最大值', '1'], ['8', 36038, '最大值', '8'], ['25', 33081, '最大值', '25'], ['23', 18041, '最大值', '23'], ['3', 15858, '最大值', '3'], ['4', 19641, '最大值', '4'], ['21', 34138, '最大值', '21'], ['7', 19578, '最大值', '7']], 'healTable': [['周贽', 12292.0, 0.3101134594319651, 6.0, 6.0, 18925.0, 93.0, 322.0, 38.051075727096055], ['厌夜', 12405.0, 0.3626289502894482, 5.0, 5.0, 14626.0, 191.0, 537.0, 22.828685258964143], ['迟驻', 6819.0, 0.3592182155067677, 5.0, 5.0, 15636.0, 323.0, 824.0, 35.13157894736842], ['白某', 11048.0, 0.3622952480086506, 5.0, 5.0, 14273.0, 267.0, 658.0, 27.16417910447761], ['安小逢', 7271.0, 0.35073762738331943, 5.0, 5.0, 9759.0, 334.0, 988.0, 24.903474903474905], ['狼牙精锐', 623.0, 0.030744205796942634, 4.0, 4.0, 4846.0, 40.0, 88.91399999999999, 31.19597571913223]], 'hardNPC': '走火入魔玩家', 'sumDeath': 2, 'npcHeal': 336483, 'npcHealRate': 0.5652766230253732, 'dpsTable': [['周贽', 187769.84952485998, 17.0, 1.9818128195580624, 19.0], ['厌夜', 153368.69649775108, 2.0, 2.0408130054932325, 19.0], ['迟驻', 120389.42428904586, 19.0, 1.612387123536518, 20.0], ['白某', 101966.62511974943, 16.0, 1.6209023082446423, 19.0], ['安小逢', 89428.99810212837, 14.0, 1.7757976125330797, 19.0], ['狼牙精锐', 165150.62155549528, 4.0, 1.6859309923766244, 17.0]], 'numshield': 1062, 'numpurge': 7, 'healList': [['最大值', '22', 12292, 12405, 6819, 11048, 6555], ['最大值', '5', 19528, 14736, 13077, 19830, 12521], ['最大值', '6', 23384, 11621, 12592, 15781, 12640], ['最大值', '2', 23868, 17927, 14953, 17009, 13755]], 'maxSingleBreakName': '浮生若涟漪', 'spareRateList': [['周贽', 0.8822335527944074], ['厌夜', 0.6281111339448265], ['迟驻', 0.5989143046215386], ['白某', 0.5490533732553136], ['安小逢', 0.600809606399618], ['狼牙精锐', 0.3099595353087061]], 'numeffheal': 16562434, 'maxSingleBreak': 62, 'maxDps': 187769.84952485998, 'sumHit': 12, 'rateList': [['21', 0.9277485856489894, '最大值', '21'], ['8', 0.9267461403688662, '最大值', '8'], ['3', 0.9262169110725185, '最大值', '3'], ['7', 0.9240578223034033, '最大值', '7'], ['25', 0.9231487853876335, '最大值', '25'], ['23', 0.9144347743622178, '最大值', '23'], ['24', 0.9105660086153177, '最大值', '24'], ['5', 0.9016762745173307, '最大值', '5'], ['2', 0.8913809210883513, '最大值', '2'], ['9', 0.8908104445207281, '最大值', '9'], ['4', 0.8907107535008792, '最大值', '4'], ['22', 0.8806563949574922, '最大值', '22'], ['6', 0.8692763357474328, '最大值', '6'], ['10', 0.8615923744425682, '最大值', '10'], ['1', 0.8512294848709558, '最大值', '1']], 'bossRateDict': {'6': [0.8504563279857398, 0.9838804347826087, 0.9099201570680628], '2': [0.8278480392156863, 0.9771259079903147, 0.9163060109289618], '1': [0.7877837259100643, 0.9269119638826185, 0.9169245810055866], '4': [0.9135443548387097, 0.9239841688654353, 0.9325825627476882], '7': [0.9048383658969804, 0.9494509283819629, 1.0602477064220184], '5': [0.8604618473895582, 0.9611867881548974, 1.0346880733944954], '8': [0.8786298342541436, 0.9645929919137466, 0.9265706594885599], '3': [0.860874296435272, 0.947949002217295, 0.9329250985545335], '21': [0.8796472602739726, 0.9574079822616408, 0.9842565445026178], '25': [0.9441119592875318, 0.9431951219512195, 0.9464501800720289], '23': [0.9061459854014599, 0.9578830845771145, 0.9005406360424029], '9': [0.8424806629834254, 0.9217149425287356, 0.9288712011577424], '24': [0.8881066398390342, 0.9414783653846154, 0.9110670731707317], '22': [0.8343843058350101, 0.9233089005235602, 1.032256880733945], '10': [0.8238970099667774, 0.9170092378752887, 0.916083172147002]}, 'maxSingleRateName': '安卿尘', 'breakList': [['4', 62, '最大值', '4'], ['2', 56, '最大值', '2'], ['9', 54, '最大值', '9'], ['6', 54, '最大值', '6'], ['3', 52, '最大值', '3'], ['25', 52, '最大值', '25'], ['5', 51, '最大值', '5'], ['8', 51, '最大值', '8'], ['23', 50, '最大值', '23'], ['10', 50, '最大值', '10'], ['7', 48, '最大值', '7'], ['24', 48, '最大值', '24'], ['1', 46, '最大值', '1'], ['21', 46, '最大值', '21'], ['22', 46, '最大值', '22']], 'bossBreakDict': {'2': [21, 17, 18], '4': [23, 15, 22], '3': [21, 16, 14], '5': [22, 14, 20], '1': [21, 10, 18], '7': [23, 14, 16], '23': [20, 11, 18], '8': [21, 13, 23], '9': [21, 15, 15], '6': [21, 15, 20], '21': [20, 13, 18], '25': [21, 14, 18], '24': [19, 13, 17], '22': [20, 13, 18], '10': [18, 13, 18]}, 'hitCount': {'s22111': 0, 's22272': 0, 's24029': 6, 's22374': 0, 's22388': 0, 's22246': 0, 'b16842': 2, 's22356': 0, 'b16316': 0, 's22776': 0, 's24030': 7, 's22520': 0, 's23700': 3, 's24031': 4, 's23621': 0, 's22521': 0, 's22203': 0, 's22367': 0, 'b17301': 0, 'b17110': 0}, 'maxSingleRate': 0.9277485856489894, 'printTable': []}}\n"
     ]
    }
   ],
   "source": [
    "print(maxInfo)"
   ]
  },
  {
   "cell_type": "code",
   "execution_count": 32,
   "metadata": {},
   "outputs": [
    {
     "name": "stdout",
     "output_type": "stream",
     "text": [
      "score\n",
      "rateTable\n",
      "maxDpsName\n",
      "maxDpsTable\n",
      "numheal\n",
      "maxDpsRank\n",
      "maxEqualDPS\n",
      "hardBOSS\n",
      "npcHealList\n"
     ]
    },
    {
     "ename": "TypeError",
     "evalue": "Object of type int32 is not JSON serializable",
     "output_type": "error",
     "traceback": [
      "\u001b[1;31m---------------------------------------------------------------------------\u001b[0m",
      "\u001b[1;31mTypeError\u001b[0m                                 Traceback (most recent call last)",
      "\u001b[1;32m<ipython-input-32-29c41962242a>\u001b[0m in \u001b[0;36m<module>\u001b[1;34m\u001b[0m\n\u001b[0;32m      8\u001b[0m     \u001b[0mprint\u001b[0m\u001b[1;33m(\u001b[0m\u001b[0mkey\u001b[0m\u001b[1;33m)\u001b[0m\u001b[1;33m\u001b[0m\u001b[1;33m\u001b[0m\u001b[0m\n\u001b[0;32m      9\u001b[0m     \u001b[0mtestInfo\u001b[0m\u001b[1;33m[\u001b[0m\u001b[0mkey\u001b[0m\u001b[1;33m]\u001b[0m \u001b[1;33m=\u001b[0m \u001b[0mstat\u001b[0m\u001b[1;33m[\u001b[0m\u001b[0mkey\u001b[0m\u001b[1;33m]\u001b[0m\u001b[1;33m\u001b[0m\u001b[1;33m\u001b[0m\u001b[0m\n\u001b[1;32m---> 10\u001b[1;33m     \u001b[0mJdata\u001b[0m \u001b[1;33m=\u001b[0m \u001b[0mjson\u001b[0m\u001b[1;33m.\u001b[0m\u001b[0mdumps\u001b[0m\u001b[1;33m(\u001b[0m\u001b[0mtestInfo\u001b[0m\u001b[1;33m)\u001b[0m\u001b[1;33m\u001b[0m\u001b[1;33m\u001b[0m\u001b[0m\n\u001b[0m",
      "\u001b[1;32mC:\\ProgramData\\Anaconda3\\lib\\json\\__init__.py\u001b[0m in \u001b[0;36mdumps\u001b[1;34m(obj, skipkeys, ensure_ascii, check_circular, allow_nan, cls, indent, separators, default, sort_keys, **kw)\u001b[0m\n\u001b[0;32m    229\u001b[0m         \u001b[0mcls\u001b[0m \u001b[1;32mis\u001b[0m \u001b[1;32mNone\u001b[0m \u001b[1;32mand\u001b[0m \u001b[0mindent\u001b[0m \u001b[1;32mis\u001b[0m \u001b[1;32mNone\u001b[0m \u001b[1;32mand\u001b[0m \u001b[0mseparators\u001b[0m \u001b[1;32mis\u001b[0m \u001b[1;32mNone\u001b[0m \u001b[1;32mand\u001b[0m\u001b[1;33m\u001b[0m\u001b[1;33m\u001b[0m\u001b[0m\n\u001b[0;32m    230\u001b[0m         default is None and not sort_keys and not kw):\n\u001b[1;32m--> 231\u001b[1;33m         \u001b[1;32mreturn\u001b[0m \u001b[0m_default_encoder\u001b[0m\u001b[1;33m.\u001b[0m\u001b[0mencode\u001b[0m\u001b[1;33m(\u001b[0m\u001b[0mobj\u001b[0m\u001b[1;33m)\u001b[0m\u001b[1;33m\u001b[0m\u001b[1;33m\u001b[0m\u001b[0m\n\u001b[0m\u001b[0;32m    232\u001b[0m     \u001b[1;32mif\u001b[0m \u001b[0mcls\u001b[0m \u001b[1;32mis\u001b[0m \u001b[1;32mNone\u001b[0m\u001b[1;33m:\u001b[0m\u001b[1;33m\u001b[0m\u001b[1;33m\u001b[0m\u001b[0m\n\u001b[0;32m    233\u001b[0m         \u001b[0mcls\u001b[0m \u001b[1;33m=\u001b[0m \u001b[0mJSONEncoder\u001b[0m\u001b[1;33m\u001b[0m\u001b[1;33m\u001b[0m\u001b[0m\n",
      "\u001b[1;32mC:\\ProgramData\\Anaconda3\\lib\\json\\encoder.py\u001b[0m in \u001b[0;36mencode\u001b[1;34m(self, o)\u001b[0m\n\u001b[0;32m    197\u001b[0m         \u001b[1;31m# exceptions aren't as detailed.  The list call should be roughly\u001b[0m\u001b[1;33m\u001b[0m\u001b[1;33m\u001b[0m\u001b[1;33m\u001b[0m\u001b[0m\n\u001b[0;32m    198\u001b[0m         \u001b[1;31m# equivalent to the PySequence_Fast that ''.join() would do.\u001b[0m\u001b[1;33m\u001b[0m\u001b[1;33m\u001b[0m\u001b[1;33m\u001b[0m\u001b[0m\n\u001b[1;32m--> 199\u001b[1;33m         \u001b[0mchunks\u001b[0m \u001b[1;33m=\u001b[0m \u001b[0mself\u001b[0m\u001b[1;33m.\u001b[0m\u001b[0miterencode\u001b[0m\u001b[1;33m(\u001b[0m\u001b[0mo\u001b[0m\u001b[1;33m,\u001b[0m \u001b[0m_one_shot\u001b[0m\u001b[1;33m=\u001b[0m\u001b[1;32mTrue\u001b[0m\u001b[1;33m)\u001b[0m\u001b[1;33m\u001b[0m\u001b[1;33m\u001b[0m\u001b[0m\n\u001b[0m\u001b[0;32m    200\u001b[0m         \u001b[1;32mif\u001b[0m \u001b[1;32mnot\u001b[0m \u001b[0misinstance\u001b[0m\u001b[1;33m(\u001b[0m\u001b[0mchunks\u001b[0m\u001b[1;33m,\u001b[0m \u001b[1;33m(\u001b[0m\u001b[0mlist\u001b[0m\u001b[1;33m,\u001b[0m \u001b[0mtuple\u001b[0m\u001b[1;33m)\u001b[0m\u001b[1;33m)\u001b[0m\u001b[1;33m:\u001b[0m\u001b[1;33m\u001b[0m\u001b[1;33m\u001b[0m\u001b[0m\n\u001b[0;32m    201\u001b[0m             \u001b[0mchunks\u001b[0m \u001b[1;33m=\u001b[0m \u001b[0mlist\u001b[0m\u001b[1;33m(\u001b[0m\u001b[0mchunks\u001b[0m\u001b[1;33m)\u001b[0m\u001b[1;33m\u001b[0m\u001b[1;33m\u001b[0m\u001b[0m\n",
      "\u001b[1;32mC:\\ProgramData\\Anaconda3\\lib\\json\\encoder.py\u001b[0m in \u001b[0;36miterencode\u001b[1;34m(self, o, _one_shot)\u001b[0m\n\u001b[0;32m    255\u001b[0m                 \u001b[0mself\u001b[0m\u001b[1;33m.\u001b[0m\u001b[0mkey_separator\u001b[0m\u001b[1;33m,\u001b[0m \u001b[0mself\u001b[0m\u001b[1;33m.\u001b[0m\u001b[0mitem_separator\u001b[0m\u001b[1;33m,\u001b[0m \u001b[0mself\u001b[0m\u001b[1;33m.\u001b[0m\u001b[0msort_keys\u001b[0m\u001b[1;33m,\u001b[0m\u001b[1;33m\u001b[0m\u001b[1;33m\u001b[0m\u001b[0m\n\u001b[0;32m    256\u001b[0m                 self.skipkeys, _one_shot)\n\u001b[1;32m--> 257\u001b[1;33m         \u001b[1;32mreturn\u001b[0m \u001b[0m_iterencode\u001b[0m\u001b[1;33m(\u001b[0m\u001b[0mo\u001b[0m\u001b[1;33m,\u001b[0m \u001b[1;36m0\u001b[0m\u001b[1;33m)\u001b[0m\u001b[1;33m\u001b[0m\u001b[1;33m\u001b[0m\u001b[0m\n\u001b[0m\u001b[0;32m    258\u001b[0m \u001b[1;33m\u001b[0m\u001b[0m\n\u001b[0;32m    259\u001b[0m def _make_iterencode(markers, _default, _encoder, _indent, _floatstr,\n",
      "\u001b[1;32mC:\\ProgramData\\Anaconda3\\lib\\json\\encoder.py\u001b[0m in \u001b[0;36mdefault\u001b[1;34m(self, o)\u001b[0m\n\u001b[0;32m    177\u001b[0m \u001b[1;33m\u001b[0m\u001b[0m\n\u001b[0;32m    178\u001b[0m         \"\"\"\n\u001b[1;32m--> 179\u001b[1;33m         raise TypeError(f'Object of type {o.__class__.__name__} '\n\u001b[0m\u001b[0;32m    180\u001b[0m                         f'is not JSON serializable')\n\u001b[0;32m    181\u001b[0m \u001b[1;33m\u001b[0m\u001b[0m\n",
      "\u001b[1;31mTypeError\u001b[0m: Object of type int32 is not JSON serializable"
     ]
    }
   ],
   "source": [
    "maxInfo[\"score\"] = int(maxInfo[\"score\"])\n",
    "minInfo[\"score\"] = int(minInfo[\"score\"])\n",
    "maxInfo[\"statistics\"][\"score\"] = int(maxInfo[\"score\"])\n",
    "minInfo[\"statistics\"][\"score\"] = int(minInfo[\"score\"])\n",
    "testInfo = {}\n",
    "stat = maxInfo[\"statistics\"]\n",
    "for key in stat:\n",
    "    print(key)\n",
    "    testInfo[key] = stat[key]\n",
    "    Jdata = json.dumps(testInfo)"
   ]
  },
  {
   "cell_type": "code",
   "execution_count": 24,
   "metadata": {},
   "outputs": [
    {
     "name": "stdout",
     "output_type": "stream",
     "text": [
      "<class 'numpy.int32'>\n"
     ]
    }
   ],
   "source": [
    "print(type(maxInfo[\"statistics\"][\"numheal\"]))\n",
    "\n"
   ]
  },
  {
   "cell_type": "code",
   "execution_count": 27,
   "metadata": {},
   "outputs": [
    {
     "data": {
      "text/plain": [
       "True"
      ]
     },
     "execution_count": 27,
     "metadata": {},
     "output_type": "execute_result"
    }
   ],
   "source": [
    "type(maxInfo[\"statistics\"][\"numheal\"]) == type(np.array([1])[0])"
   ]
  }
 ],
 "metadata": {
  "kernelspec": {
   "display_name": "Python 3",
   "language": "python",
   "name": "python3"
  },
  "language_info": {
   "codemirror_mode": {
    "name": "ipython",
    "version": 3
   },
   "file_extension": ".py",
   "mimetype": "text/x-python",
   "name": "python",
   "nbconvert_exporter": "python",
   "pygments_lexer": "ipython3",
   "version": "3.7.4"
  }
 },
 "nbformat": 4,
 "nbformat_minor": 2
}
